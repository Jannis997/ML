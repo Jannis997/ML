{
 "cells": [
  {
   "cell_type": "markdown",
   "metadata": {},
   "source": [
    "# Open the data"
   ]
  },
  {
   "cell_type": "code",
   "execution_count": 533,
   "metadata": {},
   "outputs": [],
   "source": [
    "import pandas as pd\n",
    "data=pd.read_parquet('data.parquet', engine='fastparquet')"
   ]
  },
  {
   "cell_type": "markdown",
   "metadata": {},
   "source": [
    "# Quick view of the data"
   ]
  },
  {
   "cell_type": "code",
   "execution_count": 534,
   "metadata": {},
   "outputs": [
    {
     "data": {
      "text/html": [
       "<div>\n",
       "<style scoped>\n",
       "    .dataframe tbody tr th:only-of-type {\n",
       "        vertical-align: middle;\n",
       "    }\n",
       "\n",
       "    .dataframe tbody tr th {\n",
       "        vertical-align: top;\n",
       "    }\n",
       "\n",
       "    .dataframe thead th {\n",
       "        text-align: right;\n",
       "    }\n",
       "</style>\n",
       "<table border=\"1\" class=\"dataframe\">\n",
       "  <thead>\n",
       "    <tr style=\"text-align: right;\">\n",
       "      <th></th>\n",
       "      <th>x_0</th>\n",
       "      <th>x_1</th>\n",
       "      <th>x_2</th>\n",
       "      <th>x_3</th>\n",
       "      <th>x_4</th>\n",
       "      <th>x_5</th>\n",
       "      <th>x_6</th>\n",
       "      <th>x_7</th>\n",
       "      <th>x_8</th>\n",
       "      <th>x_9</th>\n",
       "      <th>y</th>\n",
       "    </tr>\n",
       "  </thead>\n",
       "  <tbody>\n",
       "    <tr>\n",
       "      <th>0.0</th>\n",
       "      <td>-2.509198</td>\n",
       "      <td>-6.589518</td>\n",
       "      <td>6.574750</td>\n",
       "      <td>1.225544</td>\n",
       "      <td>-5.441297</td>\n",
       "      <td>-5.158895</td>\n",
       "      <td>6.344444</td>\n",
       "      <td>4.929828</td>\n",
       "      <td>9.272400</td>\n",
       "      <td>5.915853</td>\n",
       "      <td>-7.994212</td>\n",
       "    </tr>\n",
       "    <tr>\n",
       "      <th>0.1</th>\n",
       "      <td>-1.808076</td>\n",
       "      <td>-5.784906</td>\n",
       "      <td>7.091301</td>\n",
       "      <td>1.977199</td>\n",
       "      <td>-4.726164</td>\n",
       "      <td>-4.434952</td>\n",
       "      <td>6.909614</td>\n",
       "      <td>5.864192</td>\n",
       "      <td>10.527455</td>\n",
       "      <td>6.512394</td>\n",
       "      <td>-20.191479</td>\n",
       "    </tr>\n",
       "    <tr>\n",
       "      <th>0.2</th>\n",
       "      <td>-1.107714</td>\n",
       "      <td>-4.981646</td>\n",
       "      <td>7.607356</td>\n",
       "      <td>2.728112</td>\n",
       "      <td>-4.012037</td>\n",
       "      <td>-3.711820</td>\n",
       "      <td>7.474196</td>\n",
       "      <td>6.797094</td>\n",
       "      <td>11.781020</td>\n",
       "      <td>7.108557</td>\n",
       "      <td>19593.971202</td>\n",
       "    </tr>\n",
       "    <tr>\n",
       "      <th>0.3</th>\n",
       "      <td>-0.408874</td>\n",
       "      <td>-4.181087</td>\n",
       "      <td>8.122422</td>\n",
       "      <td>3.477542</td>\n",
       "      <td>-3.299921</td>\n",
       "      <td>-2.990308</td>\n",
       "      <td>8.037604</td>\n",
       "      <td>7.727074</td>\n",
       "      <td>13.031605</td>\n",
       "      <td>7.703966</td>\n",
       "      <td>-44.536840</td>\n",
       "    </tr>\n",
       "    <tr>\n",
       "      <th>0.4</th>\n",
       "      <td>0.287688</td>\n",
       "      <td>-3.384572</td>\n",
       "      <td>8.636006</td>\n",
       "      <td>4.224751</td>\n",
       "      <td>-2.590815</td>\n",
       "      <td>-2.271221</td>\n",
       "      <td>8.599253</td>\n",
       "      <td>8.652678</td>\n",
       "      <td>14.277727</td>\n",
       "      <td>8.298245</td>\n",
       "      <td>-56.660408</td>\n",
       "    </tr>\n",
       "  </tbody>\n",
       "</table>\n",
       "</div>"
      ],
      "text/plain": [
       "          x_0       x_1       x_2       x_3       x_4       x_5       x_6  \\\n",
       "0.0 -2.509198 -6.589518  6.574750  1.225544 -5.441297 -5.158895  6.344444   \n",
       "0.1 -1.808076 -5.784906  7.091301  1.977199 -4.726164 -4.434952  6.909614   \n",
       "0.2 -1.107714 -4.981646  7.607356  2.728112 -4.012037 -3.711820  7.474196   \n",
       "0.3 -0.408874 -4.181087  8.122422  3.477542 -3.299921 -2.990308  8.037604   \n",
       "0.4  0.287688 -3.384572  8.636006  4.224751 -2.590815 -2.271221  8.599253   \n",
       "\n",
       "          x_7        x_8       x_9             y  \n",
       "0.0  4.929828   9.272400  5.915853     -7.994212  \n",
       "0.1  5.864192  10.527455  6.512394    -20.191479  \n",
       "0.2  6.797094  11.781020  7.108557  19593.971202  \n",
       "0.3  7.727074  13.031605  7.703966    -44.536840  \n",
       "0.4  8.652678  14.277727  8.298245    -56.660408  "
      ]
     },
     "execution_count": 534,
     "metadata": {},
     "output_type": "execute_result"
    }
   ],
   "source": [
    "\n",
    "data.head()"
   ]
  },
  {
   "cell_type": "code",
   "execution_count": 535,
   "metadata": {},
   "outputs": [
    {
     "name": "stdout",
     "output_type": "stream",
     "text": [
      "<class 'pandas.core.frame.DataFrame'>\n",
      "Float64Index: 10000 entries, 0.0 to 999.9000000000001\n",
      "Data columns (total 11 columns):\n",
      " #   Column  Non-Null Count  Dtype  \n",
      "---  ------  --------------  -----  \n",
      " 0   x_0     9500 non-null   float64\n",
      " 1   x_1     9500 non-null   float64\n",
      " 2   x_2     9500 non-null   float64\n",
      " 3   x_3     9500 non-null   float64\n",
      " 4   x_4     9500 non-null   float64\n",
      " 5   x_5     9500 non-null   float64\n",
      " 6   x_6     9500 non-null   float64\n",
      " 7   x_7     9500 non-null   float64\n",
      " 8   x_8     9500 non-null   float64\n",
      " 9   x_9     9500 non-null   float64\n",
      " 10  y       10000 non-null  float64\n",
      "dtypes: float64(11)\n",
      "memory usage: 937.5 KB\n"
     ]
    }
   ],
   "source": [
    "# all numeric values\n",
    "# 500 null values in each feature\n",
    "data.info()"
   ]
  },
  {
   "cell_type": "code",
   "execution_count": 536,
   "metadata": {},
   "outputs": [
    {
     "data": {
      "text/html": [
       "<div>\n",
       "<style scoped>\n",
       "    .dataframe tbody tr th:only-of-type {\n",
       "        vertical-align: middle;\n",
       "    }\n",
       "\n",
       "    .dataframe tbody tr th {\n",
       "        vertical-align: top;\n",
       "    }\n",
       "\n",
       "    .dataframe thead th {\n",
       "        text-align: right;\n",
       "    }\n",
       "</style>\n",
       "<table border=\"1\" class=\"dataframe\">\n",
       "  <thead>\n",
       "    <tr style=\"text-align: right;\">\n",
       "      <th></th>\n",
       "      <th>x_0</th>\n",
       "      <th>x_1</th>\n",
       "      <th>x_2</th>\n",
       "      <th>x_3</th>\n",
       "      <th>x_4</th>\n",
       "      <th>x_5</th>\n",
       "      <th>x_6</th>\n",
       "      <th>x_7</th>\n",
       "      <th>x_8</th>\n",
       "      <th>x_9</th>\n",
       "      <th>y</th>\n",
       "    </tr>\n",
       "  </thead>\n",
       "  <tbody>\n",
       "    <tr>\n",
       "      <th>count</th>\n",
       "      <td>9500.000000</td>\n",
       "      <td>9500.000000</td>\n",
       "      <td>9500.000000</td>\n",
       "      <td>9500.000000</td>\n",
       "      <td>9500.000000</td>\n",
       "      <td>9500.000000</td>\n",
       "      <td>9500.000000</td>\n",
       "      <td>9500.000000</td>\n",
       "      <td>9500.000000</td>\n",
       "      <td>9500.000000</td>\n",
       "      <td>10000.000000</td>\n",
       "    </tr>\n",
       "    <tr>\n",
       "      <th>mean</th>\n",
       "      <td>-2.426686</td>\n",
       "      <td>-6.497493</td>\n",
       "      <td>6.690429</td>\n",
       "      <td>1.327393</td>\n",
       "      <td>-5.362143</td>\n",
       "      <td>-5.056841</td>\n",
       "      <td>6.465323</td>\n",
       "      <td>5.001474</td>\n",
       "      <td>9.396949</td>\n",
       "      <td>6.066720</td>\n",
       "      <td>965.396323</td>\n",
       "    </tr>\n",
       "    <tr>\n",
       "      <th>std</th>\n",
       "      <td>6.024108</td>\n",
       "      <td>6.636835</td>\n",
       "      <td>5.812503</td>\n",
       "      <td>8.058859</td>\n",
       "      <td>6.395254</td>\n",
       "      <td>6.669856</td>\n",
       "      <td>6.111031</td>\n",
       "      <td>6.796512</td>\n",
       "      <td>10.350588</td>\n",
       "      <td>6.706510</td>\n",
       "      <td>4252.239064</td>\n",
       "    </tr>\n",
       "    <tr>\n",
       "      <th>min</th>\n",
       "      <td>-16.699935</td>\n",
       "      <td>-25.306047</td>\n",
       "      <td>-11.529512</td>\n",
       "      <td>-17.748885</td>\n",
       "      <td>-22.326708</td>\n",
       "      <td>-24.372181</td>\n",
       "      <td>-11.081802</td>\n",
       "      <td>-15.776908</td>\n",
       "      <td>-14.190917</td>\n",
       "      <td>-12.343675</td>\n",
       "      <td>-402.558358</td>\n",
       "    </tr>\n",
       "    <tr>\n",
       "      <th>25%</th>\n",
       "      <td>-6.690738</td>\n",
       "      <td>-10.860517</td>\n",
       "      <td>2.462572</td>\n",
       "      <td>-3.952630</td>\n",
       "      <td>-9.981385</td>\n",
       "      <td>-9.175233</td>\n",
       "      <td>1.931674</td>\n",
       "      <td>0.395510</td>\n",
       "      <td>2.058613</td>\n",
       "      <td>1.599810</td>\n",
       "      <td>-57.370881</td>\n",
       "    </tr>\n",
       "    <tr>\n",
       "      <th>50%</th>\n",
       "      <td>-2.279209</td>\n",
       "      <td>-6.697979</td>\n",
       "      <td>6.927207</td>\n",
       "      <td>1.441649</td>\n",
       "      <td>-5.635869</td>\n",
       "      <td>-4.874212</td>\n",
       "      <td>6.640814</td>\n",
       "      <td>4.675923</td>\n",
       "      <td>8.974248</td>\n",
       "      <td>5.871135</td>\n",
       "      <td>-6.502222</td>\n",
       "    </tr>\n",
       "    <tr>\n",
       "      <th>75%</th>\n",
       "      <td>1.666959</td>\n",
       "      <td>-2.084193</td>\n",
       "      <td>10.620475</td>\n",
       "      <td>6.675253</td>\n",
       "      <td>-1.073252</td>\n",
       "      <td>-0.661256</td>\n",
       "      <td>10.505963</td>\n",
       "      <td>9.518025</td>\n",
       "      <td>16.850463</td>\n",
       "      <td>10.351639</td>\n",
       "      <td>51.603811</td>\n",
       "    </tr>\n",
       "    <tr>\n",
       "      <th>max</th>\n",
       "      <td>18.922192</td>\n",
       "      <td>13.435673</td>\n",
       "      <td>23.859091</td>\n",
       "      <td>25.803378</td>\n",
       "      <td>14.073480</td>\n",
       "      <td>16.950776</td>\n",
       "      <td>24.634488</td>\n",
       "      <td>28.871298</td>\n",
       "      <td>46.117738</td>\n",
       "      <td>30.262451</td>\n",
       "      <td>19995.778237</td>\n",
       "    </tr>\n",
       "  </tbody>\n",
       "</table>\n",
       "</div>"
      ],
      "text/plain": [
       "               x_0          x_1          x_2          x_3          x_4  \\\n",
       "count  9500.000000  9500.000000  9500.000000  9500.000000  9500.000000   \n",
       "mean     -2.426686    -6.497493     6.690429     1.327393    -5.362143   \n",
       "std       6.024108     6.636835     5.812503     8.058859     6.395254   \n",
       "min     -16.699935   -25.306047   -11.529512   -17.748885   -22.326708   \n",
       "25%      -6.690738   -10.860517     2.462572    -3.952630    -9.981385   \n",
       "50%      -2.279209    -6.697979     6.927207     1.441649    -5.635869   \n",
       "75%       1.666959    -2.084193    10.620475     6.675253    -1.073252   \n",
       "max      18.922192    13.435673    23.859091    25.803378    14.073480   \n",
       "\n",
       "               x_5          x_6          x_7          x_8          x_9  \\\n",
       "count  9500.000000  9500.000000  9500.000000  9500.000000  9500.000000   \n",
       "mean     -5.056841     6.465323     5.001474     9.396949     6.066720   \n",
       "std       6.669856     6.111031     6.796512    10.350588     6.706510   \n",
       "min     -24.372181   -11.081802   -15.776908   -14.190917   -12.343675   \n",
       "25%      -9.175233     1.931674     0.395510     2.058613     1.599810   \n",
       "50%      -4.874212     6.640814     4.675923     8.974248     5.871135   \n",
       "75%      -0.661256    10.505963     9.518025    16.850463    10.351639   \n",
       "max      16.950776    24.634488    28.871298    46.117738    30.262451   \n",
       "\n",
       "                  y  \n",
       "count  10000.000000  \n",
       "mean     965.396323  \n",
       "std     4252.239064  \n",
       "min     -402.558358  \n",
       "25%      -57.370881  \n",
       "50%       -6.502222  \n",
       "75%       51.603811  \n",
       "max    19995.778237  "
      ]
     },
     "execution_count": 536,
     "metadata": {},
     "output_type": "execute_result"
    }
   ],
   "source": [
    "# extremely high std in y\n",
    "data.describe()"
   ]
  },
  {
   "cell_type": "code",
   "execution_count": 537,
   "metadata": {},
   "outputs": [
    {
     "data": {
      "text/html": [
       "<div>\n",
       "<style scoped>\n",
       "    .dataframe tbody tr th:only-of-type {\n",
       "        vertical-align: middle;\n",
       "    }\n",
       "\n",
       "    .dataframe tbody tr th {\n",
       "        vertical-align: top;\n",
       "    }\n",
       "\n",
       "    .dataframe thead th {\n",
       "        text-align: right;\n",
       "    }\n",
       "</style>\n",
       "<table border=\"1\" class=\"dataframe\">\n",
       "  <thead>\n",
       "    <tr style=\"text-align: right;\">\n",
       "      <th></th>\n",
       "      <th>x_0</th>\n",
       "      <th>x_1</th>\n",
       "      <th>x_2</th>\n",
       "      <th>x_3</th>\n",
       "      <th>x_4</th>\n",
       "      <th>x_5</th>\n",
       "      <th>x_6</th>\n",
       "      <th>x_7</th>\n",
       "      <th>x_8</th>\n",
       "      <th>x_9</th>\n",
       "      <th>y</th>\n",
       "    </tr>\n",
       "  </thead>\n",
       "  <tbody>\n",
       "    <tr>\n",
       "      <th>999.0</th>\n",
       "      <td>-10.540936</td>\n",
       "      <td>-16.431037</td>\n",
       "      <td>1.286249</td>\n",
       "      <td>2.078809</td>\n",
       "      <td>-8.264057</td>\n",
       "      <td>-18.173239</td>\n",
       "      <td>NaN</td>\n",
       "      <td>-1.267313</td>\n",
       "      <td>5.531344</td>\n",
       "      <td>NaN</td>\n",
       "      <td>19437.437685</td>\n",
       "    </tr>\n",
       "    <tr>\n",
       "      <th>999.1</th>\n",
       "      <td>-10.435657</td>\n",
       "      <td>-16.781072</td>\n",
       "      <td>1.226973</td>\n",
       "      <td>NaN</td>\n",
       "      <td>-8.417561</td>\n",
       "      <td>-17.876918</td>\n",
       "      <td>19.918646</td>\n",
       "      <td>-1.392681</td>\n",
       "      <td>5.687709</td>\n",
       "      <td>5.796290</td>\n",
       "      <td>94.377825</td>\n",
       "    </tr>\n",
       "    <tr>\n",
       "      <th>999.2</th>\n",
       "      <td>-10.323218</td>\n",
       "      <td>-17.114202</td>\n",
       "      <td>1.169149</td>\n",
       "      <td>2.397544</td>\n",
       "      <td>-8.556408</td>\n",
       "      <td>-17.570158</td>\n",
       "      <td>19.837714</td>\n",
       "      <td>-1.512820</td>\n",
       "      <td>5.840559</td>\n",
       "      <td>5.827716</td>\n",
       "      <td>92.119609</td>\n",
       "    </tr>\n",
       "    <tr>\n",
       "      <th>999.3</th>\n",
       "      <td>-10.203838</td>\n",
       "      <td>-17.429672</td>\n",
       "      <td>1.112778</td>\n",
       "      <td>2.536889</td>\n",
       "      <td>-8.680294</td>\n",
       "      <td>-17.253333</td>\n",
       "      <td>19.746022</td>\n",
       "      <td>-1.627366</td>\n",
       "      <td>5.989511</td>\n",
       "      <td>5.862765</td>\n",
       "      <td>89.877153</td>\n",
       "    </tr>\n",
       "    <tr>\n",
       "      <th>999.4</th>\n",
       "      <td>-10.077748</td>\n",
       "      <td>-17.726763</td>\n",
       "      <td>1.057857</td>\n",
       "      <td>2.662748</td>\n",
       "      <td>-8.788953</td>\n",
       "      <td>-16.926834</td>\n",
       "      <td>19.643748</td>\n",
       "      <td>-1.735963</td>\n",
       "      <td>6.134194</td>\n",
       "      <td>5.901505</td>\n",
       "      <td>87.653135</td>\n",
       "    </tr>\n",
       "    <tr>\n",
       "      <th>999.5</th>\n",
       "      <td>-9.945182</td>\n",
       "      <td>-18.004796</td>\n",
       "      <td>1.004384</td>\n",
       "      <td>2.775047</td>\n",
       "      <td>-8.882149</td>\n",
       "      <td>-16.591064</td>\n",
       "      <td>19.531087</td>\n",
       "      <td>-1.838259</td>\n",
       "      <td>6.274251</td>\n",
       "      <td>5.944000</td>\n",
       "      <td>19531.215712</td>\n",
       "    </tr>\n",
       "    <tr>\n",
       "      <th>999.6</th>\n",
       "      <td>-9.806384</td>\n",
       "      <td>-18.263131</td>\n",
       "      <td>0.952351</td>\n",
       "      <td>2.873734</td>\n",
       "      <td>-8.959679</td>\n",
       "      <td>-16.246443</td>\n",
       "      <td>NaN</td>\n",
       "      <td>-1.933909</td>\n",
       "      <td>6.409335</td>\n",
       "      <td>5.990310</td>\n",
       "      <td>83.270886</td>\n",
       "    </tr>\n",
       "    <tr>\n",
       "      <th>999.7</th>\n",
       "      <td>-9.661605</td>\n",
       "      <td>-18.501171</td>\n",
       "      <td>0.901751</td>\n",
       "      <td>2.958782</td>\n",
       "      <td>-9.021376</td>\n",
       "      <td>-15.893401</td>\n",
       "      <td>19.275463</td>\n",
       "      <td>-2.022577</td>\n",
       "      <td>6.539114</td>\n",
       "      <td>6.040492</td>\n",
       "      <td>81.117769</td>\n",
       "    </tr>\n",
       "    <tr>\n",
       "      <th>999.8</th>\n",
       "      <td>-9.511100</td>\n",
       "      <td>-18.718362</td>\n",
       "      <td>NaN</td>\n",
       "      <td>3.030186</td>\n",
       "      <td>-9.067106</td>\n",
       "      <td>-15.532386</td>\n",
       "      <td>19.132969</td>\n",
       "      <td>-2.103938</td>\n",
       "      <td>6.663271</td>\n",
       "      <td>6.094601</td>\n",
       "      <td>78.993306</td>\n",
       "    </tr>\n",
       "    <tr>\n",
       "      <th>999.9</th>\n",
       "      <td>-9.355133</td>\n",
       "      <td>-18.914192</td>\n",
       "      <td>0.804813</td>\n",
       "      <td>3.087963</td>\n",
       "      <td>-9.096769</td>\n",
       "      <td>-15.163854</td>\n",
       "      <td>18.981028</td>\n",
       "      <td>-2.177673</td>\n",
       "      <td>6.781502</td>\n",
       "      <td>6.152685</td>\n",
       "      <td>76.899914</td>\n",
       "    </tr>\n",
       "  </tbody>\n",
       "</table>\n",
       "</div>"
      ],
      "text/plain": [
       "             x_0        x_1       x_2       x_3       x_4        x_5  \\\n",
       "999.0 -10.540936 -16.431037  1.286249  2.078809 -8.264057 -18.173239   \n",
       "999.1 -10.435657 -16.781072  1.226973       NaN -8.417561 -17.876918   \n",
       "999.2 -10.323218 -17.114202  1.169149  2.397544 -8.556408 -17.570158   \n",
       "999.3 -10.203838 -17.429672  1.112778  2.536889 -8.680294 -17.253333   \n",
       "999.4 -10.077748 -17.726763  1.057857  2.662748 -8.788953 -16.926834   \n",
       "999.5  -9.945182 -18.004796  1.004384  2.775047 -8.882149 -16.591064   \n",
       "999.6  -9.806384 -18.263131  0.952351  2.873734 -8.959679 -16.246443   \n",
       "999.7  -9.661605 -18.501171  0.901751  2.958782 -9.021376 -15.893401   \n",
       "999.8  -9.511100 -18.718362       NaN  3.030186 -9.067106 -15.532386   \n",
       "999.9  -9.355133 -18.914192  0.804813  3.087963 -9.096769 -15.163854   \n",
       "\n",
       "             x_6       x_7       x_8       x_9             y  \n",
       "999.0        NaN -1.267313  5.531344       NaN  19437.437685  \n",
       "999.1  19.918646 -1.392681  5.687709  5.796290     94.377825  \n",
       "999.2  19.837714 -1.512820  5.840559  5.827716     92.119609  \n",
       "999.3  19.746022 -1.627366  5.989511  5.862765     89.877153  \n",
       "999.4  19.643748 -1.735963  6.134194  5.901505     87.653135  \n",
       "999.5  19.531087 -1.838259  6.274251  5.944000  19531.215712  \n",
       "999.6        NaN -1.933909  6.409335  5.990310     83.270886  \n",
       "999.7  19.275463 -2.022577  6.539114  6.040492     81.117769  \n",
       "999.8  19.132969 -2.103938  6.663271  6.094601     78.993306  \n",
       "999.9  18.981028 -2.177673  6.781502  6.152685     76.899914  "
      ]
     },
     "execution_count": 537,
     "metadata": {},
     "output_type": "execute_result"
    }
   ],
   "source": [
    "# None values in different rows\n",
    "data.tail(10)"
   ]
  },
  {
   "cell_type": "code",
   "execution_count": 538,
   "metadata": {},
   "outputs": [
    {
     "data": {
      "image/png": "[encoded data removed]",
      "text/plain": [
       "<Figure size 2000x1500 with 12 Axes>"
      ]
     },
     "metadata": {},
     "output_type": "display_data"
    }
   ],
   "source": [
    "# all feaatures are gaussian\n",
    "# y has two \"groups\" of data, the first group is at around 0, the second at 20,000\n",
    "%matplotlib inline\n",
    "import matplotlib.pyplot as plt\n",
    "data.hist(bins=50, figsize=(20,15))\n",
    "plt.show()"
   ]
  },
  {
   "cell_type": "code",
   "execution_count": 539,
   "metadata": {},
   "outputs": [
    {
     "data": {
      "text/plain": [
       "<AxesSubplot: >"
      ]
     },
     "execution_count": 539,
     "metadata": {},
     "output_type": "execute_result"
    },
    {
     "data": {
      "image/png": "[encoded data removed]",
      "text/plain": [
       "<Figure size 640x480 with 1 Axes>"
      ]
     },
     "metadata": {},
     "output_type": "display_data"
    }
   ],
   "source": [
    "label_group0 = data.drop(data[data[\"y\"] < 10000].index)\n",
    "label_group1 = data.drop(data[data[\"y\"] > 10000].index)\n",
    "label_group0[\"y\"].hist()"
   ]
  },
  {
   "cell_type": "code",
   "execution_count": 540,
   "metadata": {},
   "outputs": [
    {
     "data": {
      "text/plain": [
       "<AxesSubplot: >"
      ]
     },
     "execution_count": 540,
     "metadata": {},
     "output_type": "execute_result"
    },
    {
     "data": {
      "image/png": "[encoded data removed]",
      "text/plain": [
       "<Figure size 640x480 with 1 Axes>"
      ]
     },
     "metadata": {},
     "output_type": "display_data"
    }
   ],
   "source": [
    "label_group1[\"y\"].hist()"
   ]
  },
  {
   "cell_type": "code",
   "execution_count": null,
   "metadata": {},
   "outputs": [],
   "source": []
  },
  {
   "cell_type": "markdown",
   "metadata": {},
   "source": [
    "# Generate the test data"
   ]
  },
  {
   "cell_type": "code",
   "execution_count": 541,
   "metadata": {},
   "outputs": [
    {
     "data": {
      "text/plain": [
       "0    9500\n",
       "1     500\n",
       "Name: y_cat, dtype: int64"
      ]
     },
     "execution_count": 541,
     "metadata": {},
     "output_type": "execute_result"
    }
   ],
   "source": [
    "# To represent both \"groups\" of y in the same ratio as it appears in the complete data, 2 labels are required\n",
    "import numpy as np\n",
    "data[\"y_cat\"] = pd.cut(data[\"y\"],\n",
    "                               bins=[-500.,10000., np.inf],\n",
    "                               labels=[0, 1])\n",
    "data[\"y_cat\"].value_counts()\n"
   ]
  },
  {
   "cell_type": "code",
   "execution_count": 542,
   "metadata": {},
   "outputs": [
    {
     "data": {
      "text/plain": [
       "<AxesSubplot: >"
      ]
     },
     "execution_count": 542,
     "metadata": {},
     "output_type": "execute_result"
    },
    {
     "data": {
      "image/png": "[encoded data removed]",
      "text/plain": [
       "<Figure size 640x480 with 1 Axes>"
      ]
     },
     "metadata": {},
     "output_type": "display_data"
    }
   ],
   "source": [
    "# shows the number of instances in each label\n",
    "data[\"y_cat\"].hist()"
   ]
  },
  {
   "cell_type": "code",
   "execution_count": 543,
   "metadata": {},
   "outputs": [],
   "source": [
    "# uses the label to preserve the distribution of the output groups in the test set\n",
    "from sklearn.model_selection import StratifiedShuffleSplit\n",
    "\n",
    "split = StratifiedShuffleSplit(n_splits=1, test_size=0.2, random_state=42)\n",
    "for train_index, test_index in split.split(data, data[\"y_cat\"]):\n",
    "    train_set = data.iloc[train_index]\n",
    "    test_set = data.iloc[test_index]\n"
   ]
  },
  {
   "cell_type": "code",
   "execution_count": 544,
   "metadata": {},
   "outputs": [
    {
     "data": {
      "text/plain": [
       "0    0.95\n",
       "1    0.05\n",
       "Name: y_cat, dtype: float64"
      ]
     },
     "execution_count": 544,
     "metadata": {},
     "output_type": "execute_result"
    }
   ],
   "source": [
    "# shows that the distribution in the test set is the same as for the complete data\n",
    "test_set[\"y_cat\"].value_counts() / len(test_set)"
   ]
  },
  {
   "cell_type": "code",
   "execution_count": 545,
   "metadata": {},
   "outputs": [
    {
     "data": {
      "text/plain": [
       "0    0.95\n",
       "1    0.05\n",
       "Name: y_cat, dtype: float64"
      ]
     },
     "execution_count": 545,
     "metadata": {},
     "output_type": "execute_result"
    }
   ],
   "source": [
    "data[\"y_cat\"].value_counts() / len(data)"
   ]
  },
  {
   "cell_type": "code",
   "execution_count": 546,
   "metadata": {},
   "outputs": [],
   "source": [
    "# Removes the label from the trainset\n",
    "X_train_unfilt = train_set.drop([\"y\",\"y_cat\"], axis=1)\n",
    "\n",
    "# train_labels now contains the labels\n",
    "y_train_unfilt = train_set[\"y\"].copy()"
   ]
  },
  {
   "cell_type": "code",
   "execution_count": 547,
   "metadata": {},
   "outputs": [],
   "source": [
    "train_set_filt = train_set.drop(train_set[train_set[\"y\"]>10000].index)\n",
    "X_train_filt = train_set_filt.drop([\"y\",\"y_cat\"], axis=1)      \n",
    "\n",
    "y_train_filt = train_set_filt[\"y\"].copy()\n"
   ]
  },
  {
   "cell_type": "markdown",
   "metadata": {},
   "source": [
    "# Analysing the training data"
   ]
  },
  {
   "cell_type": "code",
   "execution_count": 550,
   "metadata": {},
   "outputs": [
    {
     "data": {
      "text/plain": [
       "y      1.000000\n",
       "x_7    0.015812\n",
       "x_2    0.012528\n",
       "x_0    0.012441\n",
       "x_1    0.008877\n",
       "x_4    0.008424\n",
       "x_9    0.003465\n",
       "x_8   -0.002427\n",
       "x_6   -0.002591\n",
       "x_3   -0.006061\n",
       "x_5   -0.011707\n",
       "Name: y, dtype: float64"
      ]
     },
     "execution_count": 550,
     "metadata": {},
     "output_type": "execute_result"
    }
   ],
   "source": [
    "# shows that the linear correlation between features and labels are small\n",
    "corr_matrix = train_set.corr()\n",
    "corr_matrix[\"y\"].sort_values(ascending=False)"
   ]
  },
  {
   "cell_type": "code",
   "execution_count": null,
   "metadata": {},
   "outputs": [],
   "source": []
  },
  {
   "cell_type": "code",
   "execution_count": 551,
   "metadata": {},
   "outputs": [
    {
     "name": "stdout",
     "output_type": "stream",
     "text": [
      "<class 'pandas.core.frame.DataFrame'>\n",
      "Float64Index: 8000 entries, 178.10000000000002 to 221.4\n",
      "Data columns (total 10 columns):\n",
      " #   Column  Non-Null Count  Dtype  \n",
      "---  ------  --------------  -----  \n",
      " 0   x_0     7596 non-null   float64\n",
      " 1   x_1     7605 non-null   float64\n",
      " 2   x_2     7591 non-null   float64\n",
      " 3   x_3     7611 non-null   float64\n",
      " 4   x_4     7604 non-null   float64\n",
      " 5   x_5     7586 non-null   float64\n",
      " 6   x_6     7602 non-null   float64\n",
      " 7   x_7     7601 non-null   float64\n",
      " 8   x_8     7607 non-null   float64\n",
      " 9   x_9     7604 non-null   float64\n",
      "dtypes: float64(10)\n",
      "memory usage: 945.5 KB\n"
     ]
    }
   ],
   "source": [
    "# there are still the None values in the trainset\n",
    "X_train_unfilt.info()"
   ]
  },
  {
   "cell_type": "code",
   "execution_count": 552,
   "metadata": {},
   "outputs": [],
   "source": [
    "# create a pipeline that imputes the median to the null values, corresponding to the column\n",
    "# also applies a standart scaler\n",
    "from sklearn.pipeline import Pipeline\n",
    "from sklearn.impute import SimpleImputer\n",
    "from sklearn.preprocessing import StandardScaler\n",
    "\n",
    "pipeline = Pipeline([\n",
    " ('imputer', SimpleImputer(strategy=\"median\")),\n",
    " ('std_scaler', StandardScaler()),\n",
    " ])\n",
    "\n",
    "train_prep = pipeline.fit_transform(X_train_unfilt)"
   ]
  },
  {
   "cell_type": "code",
   "execution_count": 553,
   "metadata": {},
   "outputs": [
    {
     "name": "stdout",
     "output_type": "stream",
     "text": [
      "<class 'pandas.core.frame.DataFrame'>\n",
      "RangeIndex: 8000 entries, 0 to 7999\n",
      "Data columns (total 10 columns):\n",
      " #   Column  Non-Null Count  Dtype  \n",
      "---  ------  --------------  -----  \n",
      " 0   0       8000 non-null   float64\n",
      " 1   1       8000 non-null   float64\n",
      " 2   2       8000 non-null   float64\n",
      " 3   3       8000 non-null   float64\n",
      " 4   4       8000 non-null   float64\n",
      " 5   5       8000 non-null   float64\n",
      " 6   6       8000 non-null   float64\n",
      " 7   7       8000 non-null   float64\n",
      " 8   8       8000 non-null   float64\n",
      " 9   9       8000 non-null   float64\n",
      "dtypes: float64(10)\n",
      "memory usage: 625.1 KB\n"
     ]
    }
   ],
   "source": [
    "# shows that there are no null values left\n",
    "train_prep_df.info()"
   ]
  },
  {
   "cell_type": "markdown",
   "metadata": {},
   "source": [
    "# Explore some machine learning methods to find promising models"
   ]
  },
  {
   "cell_type": "code",
   "execution_count": 554,
   "metadata": {},
   "outputs": [],
   "source": [
    "\n",
    "# defines a function to show importand scores of performance\n",
    "def display_scores(scores):\n",
    "        print(\"Scores:\", scores)\n",
    "        print(\"Mean:\", scores.mean())\n",
    "        print(\"Standard deviation:\", scores.std())\n",
    "\n"
   ]
  },
  {
   "cell_type": "code",
   "execution_count": 555,
   "metadata": {},
   "outputs": [
    {
     "name": "stdout",
     "output_type": "stream",
     "text": [
      "Scores: [4407.74679737 4685.89734312 4092.76729753 3720.14220261 3651.69136536\n",
      " 4550.22870526 4370.34691705 4594.45211974 3945.90680884 4408.85081338]\n",
      "Mean: 4242.803037026238\n",
      "Standard deviation: 349.1119279022145\n"
     ]
    }
   ],
   "source": [
    "from sklearn.linear_model import LinearRegression\n",
    "from sklearn.model_selection import cross_val_score\n",
    "\n",
    "# Train a linear regression model\n",
    "lin_reg = LinearRegression()\n",
    "lin_reg.fit(train_prep, train_labels)\n",
    "lin_scores = cross_val_score(lin_reg, train_prep, train_labels,\n",
    "        scoring=\"neg_mean_squared_error\", cv=10)\n",
    "lin_rmse_scores = np.sqrt(-lin_scores)\n",
    "display_scores(lin_rmse_scores)"
   ]
  },
  {
   "cell_type": "code",
   "execution_count": 556,
   "metadata": {},
   "outputs": [
    {
     "name": "stdout",
     "output_type": "stream",
     "text": [
      "Scores: [4407.74679737 4685.89734312 4092.76729753 3720.14220261 3651.69136536\n",
      " 4550.22870526 4370.34691705 4594.45211974 3945.90680884 4408.85081338]\n",
      "Mean: 4242.803037026238\n",
      "Standard deviation: 349.1119279022145\n"
     ]
    }
   ],
   "source": [
    "# Train a polynomial regression model\n",
    "from sklearn.preprocessing import PolynomialFeatures\n",
    "poly_features = PolynomialFeatures(degree=4, include_bias=False)\n",
    "X_poly = poly_features.fit_transform(train_prep)\n",
    "lin_reg = LinearRegression()\n",
    "lin_reg.fit(X_poly, train_labels)\n",
    "lin_scores = cross_val_score(lin_reg, train_prep, train_labels,\n",
    "        scoring=\"neg_mean_squared_error\", cv=10)\n",
    "lin_rmse_scores = np.sqrt(-lin_scores)\n",
    "display_scores(lin_rmse_scores)\n",
    "\n"
   ]
  },
  {
   "cell_type": "code",
   "execution_count": 557,
   "metadata": {},
   "outputs": [
    {
     "name": "stdout",
     "output_type": "stream",
     "text": [
      "Scores: [4594.29071692 4923.13747036 4488.91333668 4168.56063229 3919.02115761\n",
      " 4801.65586215 4686.68077891 4920.27036636 4296.66070065 4645.45362468]\n",
      "Mean: 4544.464464660685\n",
      "Standard deviation: 313.1538498317342\n"
     ]
    }
   ],
   "source": [
    "# Train a RandomForestRegressor\n",
    "from sklearn.model_selection import cross_val_score\n",
    "from sklearn.ensemble import RandomForestRegressor\n",
    "\n",
    "forest_reg = RandomForestRegressor(n_estimators=100, random_state=42)\n",
    "forest_reg.fit(train_prep, train_labels)\n",
    "\n",
    "forest_scores = cross_val_score(forest_reg, train_prep, train_labels,\n",
    "                                scoring=\"neg_mean_squared_error\", cv=10)\n",
    "forest_rmse_scores = np.sqrt(-forest_scores)\n",
    "display_scores(forest_rmse_scores)"
   ]
  },
  {
   "cell_type": "code",
   "execution_count": 558,
   "metadata": {},
   "outputs": [],
   "source": [
    "# defines a Neural Network model\n",
    "from keras import models, layers\n",
    "import tensorflow as tf\n",
    "\n",
    "model = keras.models.Sequential([\n",
    "    keras.layers.Dense(200, kernel_initializer=\"lecun_normal\",\n",
    "                                 activation=\"selu\", input_shape=train_prep.shape[1:]),\n",
    "    keras.layers.Dense(200, kernel_initializer=\"lecun_normal\",\n",
    "                                 activation=\"selu\"),\n",
    "    keras.layers.Dense(1)\n",
    "])\n",
    "optimizer=keras.optimizers.RMSprop(learning_rate=3e-3)\n",
    "model.compile(loss=\"mean_absolute_error\", optimizer=optimizer, metrics=[tf.keras.metrics.RootMeanSquaredError()])"
   ]
  },
  {
   "cell_type": "code",
   "execution_count": 559,
   "metadata": {},
   "outputs": [
    {
     "name": "stdout",
     "output_type": "stream",
     "text": [
      "Epoch 1/100\n",
      "100/100 [==============================] - 1s 6ms/step - loss: 999.1426 - root_mean_squared_error: 4383.2183 - val_loss: 948.6395 - val_root_mean_squared_error: 4280.8350\n",
      "Epoch 2/100\n",
      "100/100 [==============================] - 0s 5ms/step - loss: 994.3209 - root_mean_squared_error: 4383.6426 - val_loss: 946.8565 - val_root_mean_squared_error: 4281.1777\n",
      "Epoch 3/100\n",
      "100/100 [==============================] - 0s 5ms/step - loss: 993.0449 - root_mean_squared_error: 4383.7466 - val_loss: 946.4617 - val_root_mean_squared_error: 4281.3403\n",
      "Epoch 4/100\n",
      "100/100 [==============================] - 0s 4ms/step - loss: 992.5544 - root_mean_squared_error: 4383.7578 - val_loss: 945.7153 - val_root_mean_squared_error: 4281.1367\n",
      "Epoch 5/100\n",
      "100/100 [==============================] - 0s 4ms/step - loss: 992.3933 - root_mean_squared_error: 4383.8501 - val_loss: 945.8365 - val_root_mean_squared_error: 4280.9761\n",
      "Epoch 6/100\n",
      "100/100 [==============================] - 0s 4ms/step - loss: 992.2824 - root_mean_squared_error: 4383.8291 - val_loss: 947.7517 - val_root_mean_squared_error: 4281.0493\n",
      "Epoch 7/100\n",
      "100/100 [==============================] - 0s 4ms/step - loss: 992.2795 - root_mean_squared_error: 4383.8315 - val_loss: 945.7620 - val_root_mean_squared_error: 4281.4673\n",
      "Epoch 8/100\n",
      "100/100 [==============================] - 0s 4ms/step - loss: 992.1639 - root_mean_squared_error: 4383.8105 - val_loss: 945.4656 - val_root_mean_squared_error: 4281.3066\n",
      "Epoch 9/100\n",
      "100/100 [==============================] - 0s 4ms/step - loss: 992.1816 - root_mean_squared_error: 4383.7935 - val_loss: 945.7566 - val_root_mean_squared_error: 4280.9541\n",
      "Epoch 10/100\n",
      "100/100 [==============================] - 0s 4ms/step - loss: 992.1062 - root_mean_squared_error: 4383.7808 - val_loss: 946.3860 - val_root_mean_squared_error: 4280.9839\n",
      "Epoch 11/100\n",
      "100/100 [==============================] - 0s 4ms/step - loss: 992.1071 - root_mean_squared_error: 4383.8608 - val_loss: 946.0356 - val_root_mean_squared_error: 4280.7446\n",
      "Epoch 12/100\n",
      "100/100 [==============================] - 0s 4ms/step - loss: 992.0118 - root_mean_squared_error: 4383.7554 - val_loss: 945.5801 - val_root_mean_squared_error: 4281.0210\n",
      "Epoch 13/100\n",
      "100/100 [==============================] - 0s 4ms/step - loss: 992.0240 - root_mean_squared_error: 4383.7231 - val_loss: 945.3469 - val_root_mean_squared_error: 4281.1509\n",
      "Epoch 14/100\n",
      "100/100 [==============================] - 0s 4ms/step - loss: 991.9623 - root_mean_squared_error: 4383.8232 - val_loss: 945.1934 - val_root_mean_squared_error: 4280.9360\n",
      "Epoch 15/100\n",
      "100/100 [==============================] - 0s 4ms/step - loss: 991.9166 - root_mean_squared_error: 4383.8208 - val_loss: 945.9728 - val_root_mean_squared_error: 4280.9697\n",
      "Epoch 16/100\n",
      "100/100 [==============================] - 0s 4ms/step - loss: 991.8922 - root_mean_squared_error: 4383.8047 - val_loss: 946.6981 - val_root_mean_squared_error: 4281.0376\n",
      "Epoch 17/100\n",
      "100/100 [==============================] - 0s 4ms/step - loss: 991.9041 - root_mean_squared_error: 4383.8599 - val_loss: 945.3918 - val_root_mean_squared_error: 4281.0229\n",
      "Epoch 18/100\n",
      "100/100 [==============================] - 0s 4ms/step - loss: 991.8879 - root_mean_squared_error: 4383.7695 - val_loss: 945.4924 - val_root_mean_squared_error: 4281.4268\n",
      "Epoch 19/100\n",
      "100/100 [==============================] - 0s 4ms/step - loss: 991.8276 - root_mean_squared_error: 4383.8301 - val_loss: 946.2865 - val_root_mean_squared_error: 4281.5049\n",
      "Epoch 20/100\n",
      "100/100 [==============================] - 0s 4ms/step - loss: 991.8513 - root_mean_squared_error: 4383.8252 - val_loss: 945.4054 - val_root_mean_squared_error: 4281.2944\n",
      "Epoch 21/100\n",
      "100/100 [==============================] - 0s 4ms/step - loss: 991.8582 - root_mean_squared_error: 4383.7896 - val_loss: 945.5208 - val_root_mean_squared_error: 4280.9575\n",
      "Epoch 22/100\n",
      "100/100 [==============================] - 0s 4ms/step - loss: 991.7095 - root_mean_squared_error: 4383.8149 - val_loss: 945.2482 - val_root_mean_squared_error: 4281.2134\n",
      "Epoch 23/100\n",
      "100/100 [==============================] - 0s 4ms/step - loss: 991.6907 - root_mean_squared_error: 4383.8105 - val_loss: 945.4030 - val_root_mean_squared_error: 4281.0400\n",
      "Epoch 24/100\n",
      "100/100 [==============================] - 0s 4ms/step - loss: 991.7014 - root_mean_squared_error: 4383.8130 - val_loss: 945.1834 - val_root_mean_squared_error: 4281.3960\n",
      "Epoch 25/100\n",
      "100/100 [==============================] - 0s 4ms/step - loss: 991.7609 - root_mean_squared_error: 4383.8545 - val_loss: 945.9938 - val_root_mean_squared_error: 4281.0098\n",
      "Epoch 26/100\n",
      "100/100 [==============================] - 0s 4ms/step - loss: 991.6839 - root_mean_squared_error: 4383.7827 - val_loss: 946.2927 - val_root_mean_squared_error: 4281.1382\n",
      "Epoch 27/100\n",
      "100/100 [==============================] - 0s 4ms/step - loss: 991.6767 - root_mean_squared_error: 4383.7139 - val_loss: 945.1069 - val_root_mean_squared_error: 4281.1807\n",
      "Epoch 28/100\n",
      "100/100 [==============================] - 0s 4ms/step - loss: 991.6512 - root_mean_squared_error: 4383.8291 - val_loss: 945.6930 - val_root_mean_squared_error: 4280.9678\n",
      "Epoch 29/100\n",
      "100/100 [==============================] - 0s 4ms/step - loss: 991.6356 - root_mean_squared_error: 4383.7554 - val_loss: 945.9926 - val_root_mean_squared_error: 4280.5801\n",
      "Epoch 30/100\n",
      "100/100 [==============================] - 0s 4ms/step - loss: 991.6232 - root_mean_squared_error: 4383.7461 - val_loss: 945.5820 - val_root_mean_squared_error: 4280.7812\n",
      "Epoch 31/100\n",
      "100/100 [==============================] - 0s 4ms/step - loss: 991.6242 - root_mean_squared_error: 4383.7847 - val_loss: 945.7900 - val_root_mean_squared_error: 4281.1426\n",
      "Epoch 32/100\n",
      "100/100 [==============================] - 0s 4ms/step - loss: 991.6470 - root_mean_squared_error: 4383.8062 - val_loss: 944.7614 - val_root_mean_squared_error: 4281.2583\n",
      "Epoch 33/100\n",
      "100/100 [==============================] - 0s 4ms/step - loss: 991.5890 - root_mean_squared_error: 4383.8120 - val_loss: 946.1711 - val_root_mean_squared_error: 4281.3188\n",
      "Epoch 34/100\n",
      "100/100 [==============================] - 0s 4ms/step - loss: 991.5644 - root_mean_squared_error: 4383.7734 - val_loss: 945.7416 - val_root_mean_squared_error: 4281.3223\n",
      "Epoch 35/100\n",
      "100/100 [==============================] - 0s 4ms/step - loss: 991.5494 - root_mean_squared_error: 4383.7178 - val_loss: 945.2396 - val_root_mean_squared_error: 4280.9419\n",
      "Epoch 36/100\n",
      "100/100 [==============================] - 0s 4ms/step - loss: 991.5304 - root_mean_squared_error: 4383.8042 - val_loss: 945.2031 - val_root_mean_squared_error: 4281.2988\n",
      "Epoch 37/100\n",
      "100/100 [==============================] - 0s 4ms/step - loss: 991.5372 - root_mean_squared_error: 4383.7715 - val_loss: 945.5492 - val_root_mean_squared_error: 4281.1045\n",
      "Epoch 38/100\n",
      "100/100 [==============================] - 0s 4ms/step - loss: 991.5681 - root_mean_squared_error: 4383.7583 - val_loss: 945.6652 - val_root_mean_squared_error: 4281.1353\n",
      "Epoch 39/100\n",
      "100/100 [==============================] - 0s 4ms/step - loss: 991.5336 - root_mean_squared_error: 4383.7969 - val_loss: 946.3105 - val_root_mean_squared_error: 4280.9004\n",
      "Epoch 40/100\n",
      "100/100 [==============================] - 0s 4ms/step - loss: 991.4815 - root_mean_squared_error: 4383.7300 - val_loss: 944.7651 - val_root_mean_squared_error: 4281.0806\n",
      "Epoch 41/100\n",
      "100/100 [==============================] - 0s 4ms/step - loss: 991.5089 - root_mean_squared_error: 4383.7319 - val_loss: 945.6613 - val_root_mean_squared_error: 4280.9526\n",
      "Epoch 42/100\n",
      "100/100 [==============================] - 0s 4ms/step - loss: 991.4057 - root_mean_squared_error: 4383.7451 - val_loss: 946.4054 - val_root_mean_squared_error: 4281.1924\n"
     ]
    }
   ],
   "source": [
    "train_labels=np.array(train_labels)\n",
    "train_prep=np.array(train_prep)\n",
    "\n",
    "# includes early stopping\n",
    "import keras.callbacks\n",
    "early_stopping_cb = keras.callbacks.EarlyStopping(patience=10)\n",
    "# trains the Neural Network\n",
    "history=model.fit(train_prep, train_labels, epochs=100,\n",
    "          validation_split=0.2,\n",
    "          callbacks = early_stopping_cb, batch_size=64)\n"
   ]
  },
  {
   "cell_type": "markdown",
   "metadata": {},
   "source": [
    "# Even a Complex Neural Network has a MSE of around 900\n",
    "# Its very likly that the second group of outputs are outliers that should be removed\n",
    "# But before that i want to try to apply a classification model to the outputs with\n",
    "# the first class being all outputs below 10000 and the second class everything above"
   ]
  },
  {
   "cell_type": "code",
   "execution_count": 560,
   "metadata": {},
   "outputs": [
    {
     "data": {
      "text/plain": [
       "178.1    0\n",
       "515.7    0\n",
       "45.9     0\n",
       "135.3    0\n",
       "597.7    0\n",
       "        ..\n",
       "411.7    0\n",
       "371.0    0\n",
       "699.4    0\n",
       "665.1    0\n",
       "221.4    0\n",
       "Name: y_cat, Length: 8000, dtype: category\n",
       "Categories (2, int64): [0 < 1]"
      ]
     },
     "execution_count": 560,
     "metadata": {},
     "output_type": "execute_result"
    }
   ],
   "source": [
    "# y_cat can be used to create the claseses\n",
    "y_cat = train_set[\"y_cat\"].copy()\n",
    "y_cat"
   ]
  },
  {
   "cell_type": "code",
   "execution_count": 561,
   "metadata": {},
   "outputs": [
    {
     "data": {
      "text/html": [
       "<style>#sk-container-id-21 {color: black;background-color: white;}#sk-container-id-21 pre{padding: 0;}#sk-container-id-21 div.sk-toggleable {background-color: white;}#sk-container-id-21 label.sk-toggleable__label {cursor: pointer;display: block;width: 100%;margin-bottom: 0;padding: 0.3em;box-sizing: border-box;text-align: center;}#sk-container-id-21 label.sk-toggleable__label-arrow:before {content: \"▸\";float: left;margin-right: 0.25em;color: #696969;}#sk-container-id-21 label.sk-toggleable__label-arrow:hover:before {color: black;}#sk-container-id-21 div.sk-estimator:hover label.sk-toggleable__label-arrow:before {color: black;}#sk-container-id-21 div.sk-toggleable__content {max-height: 0;max-width: 0;overflow: hidden;text-align: left;background-color: #f0f8ff;}#sk-container-id-21 div.sk-toggleable__content pre {margin: 0.2em;color: black;border-radius: 0.25em;background-color: #f0f8ff;}#sk-container-id-21 input.sk-toggleable__control:checked~div.sk-toggleable__content {max-height: 200px;max-width: 100%;overflow: auto;}#sk-container-id-21 input.sk-toggleable__control:checked~label.sk-toggleable__label-arrow:before {content: \"▾\";}#sk-container-id-21 div.sk-estimator input.sk-toggleable__control:checked~label.sk-toggleable__label {background-color: #d4ebff;}#sk-container-id-21 div.sk-label input.sk-toggleable__control:checked~label.sk-toggleable__label {background-color: #d4ebff;}#sk-container-id-21 input.sk-hidden--visually {border: 0;clip: rect(1px 1px 1px 1px);clip: rect(1px, 1px, 1px, 1px);height: 1px;margin: -1px;overflow: hidden;padding: 0;position: absolute;width: 1px;}#sk-container-id-21 div.sk-estimator {font-family: monospace;background-color: #f0f8ff;border: 1px dotted black;border-radius: 0.25em;box-sizing: border-box;margin-bottom: 0.5em;}#sk-container-id-21 div.sk-estimator:hover {background-color: #d4ebff;}#sk-container-id-21 div.sk-parallel-item::after {content: \"\";width: 100%;border-bottom: 1px solid gray;flex-grow: 1;}#sk-container-id-21 div.sk-label:hover label.sk-toggleable__label {background-color: #d4ebff;}#sk-container-id-21 div.sk-serial::before {content: \"\";position: absolute;border-left: 1px solid gray;box-sizing: border-box;top: 0;bottom: 0;left: 50%;z-index: 0;}#sk-container-id-21 div.sk-serial {display: flex;flex-direction: column;align-items: center;background-color: white;padding-right: 0.2em;padding-left: 0.2em;position: relative;}#sk-container-id-21 div.sk-item {position: relative;z-index: 1;}#sk-container-id-21 div.sk-parallel {display: flex;align-items: stretch;justify-content: center;background-color: white;position: relative;}#sk-container-id-21 div.sk-item::before, #sk-container-id-21 div.sk-parallel-item::before {content: \"\";position: absolute;border-left: 1px solid gray;box-sizing: border-box;top: 0;bottom: 0;left: 50%;z-index: -1;}#sk-container-id-21 div.sk-parallel-item {display: flex;flex-direction: column;z-index: 1;position: relative;background-color: white;}#sk-container-id-21 div.sk-parallel-item:first-child::after {align-self: flex-end;width: 50%;}#sk-container-id-21 div.sk-parallel-item:last-child::after {align-self: flex-start;width: 50%;}#sk-container-id-21 div.sk-parallel-item:only-child::after {width: 0;}#sk-container-id-21 div.sk-dashed-wrapped {border: 1px dashed gray;margin: 0 0.4em 0.5em 0.4em;box-sizing: border-box;padding-bottom: 0.4em;background-color: white;}#sk-container-id-21 div.sk-label label {font-family: monospace;font-weight: bold;display: inline-block;line-height: 1.2em;}#sk-container-id-21 div.sk-label-container {text-align: center;}#sk-container-id-21 div.sk-container {/* jupyter's `normalize.less` sets `[hidden] { display: none; }` but bootstrap.min.css set `[hidden] { display: none !important; }` so we also need the `!important` here to be able to override the default hidden behavior on the sphinx rendered scikit-learn.org. See: https://github.com/scikit-learn/scikit-learn/issues/21755 */display: inline-block !important;position: relative;}#sk-container-id-21 div.sk-text-repr-fallback {display: none;}</style><div id=\"sk-container-id-21\" class=\"sk-top-container\"><div class=\"sk-text-repr-fallback\"><pre>SGDClassifier()</pre><b>In a Jupyter environment, please rerun this cell to show the HTML representation or trust the notebook. <br />On GitHub, the HTML representation is unable to render, please try loading this page with nbviewer.org.</b></div><div class=\"sk-container\" hidden><div class=\"sk-item\"><div class=\"sk-estimator sk-toggleable\"><input class=\"sk-toggleable__control sk-hidden--visually\" id=\"sk-estimator-id-81\" type=\"checkbox\" checked><label for=\"sk-estimator-id-81\" class=\"sk-toggleable__label sk-toggleable__label-arrow\">SGDClassifier</label><div class=\"sk-toggleable__content\"><pre>SGDClassifier()</pre></div></div></div></div></div>"
      ],
      "text/plain": [
       "SGDClassifier()"
      ]
     },
     "execution_count": 561,
     "metadata": {},
     "output_type": "execute_result"
    }
   ],
   "source": [
    "# Train a SGD Classifier\n",
    "from sklearn.linear_model import SGDClassifier\n",
    "sgd_clf = SGDClassifier()\n",
    "sgd_clf.fit(train_prep, y_cat)\n"
   ]
  },
  {
   "cell_type": "code",
   "execution_count": 562,
   "metadata": {},
   "outputs": [
    {
     "data": {
      "text/plain": [
       "array([0.95013123, 0.94975628, 0.95011253])"
      ]
     },
     "execution_count": 562,
     "metadata": {},
     "output_type": "execute_result"
    }
   ],
   "source": [
    "# These results look good, but..\n",
    "cross_val_score(sgd_clf, train_prep, y_cat, cv=3, scoring=\"accuracy\")\n"
   ]
  },
  {
   "cell_type": "code",
   "execution_count": 563,
   "metadata": {},
   "outputs": [
    {
     "name": "stdout",
     "output_type": "stream",
     "text": [
      "[[7600    0]\n",
      " [ 400    0]]\n",
      "0.0\n"
     ]
    }
   ],
   "source": [
    "# the confusion matrix shows that the model just always chooses class 0, so it gets 95% right\n",
    "from sklearn.metrics import f1_score\n",
    "from sklearn.model_selection import cross_val_predict\n",
    "from sklearn.metrics import confusion_matrix\n",
    "y_train_pred = cross_val_predict(sgd_clf, train_prep, y_cat, cv=3)\n",
    "print(confusion_matrix(y_cat, y_train_pred))\n",
    "print(f1_score(y_cat, y_train_pred))\n"
   ]
  },
  {
   "cell_type": "code",
   "execution_count": 564,
   "metadata": {},
   "outputs": [
    {
     "data": {
      "image/png": "[encoded data removed]",
      "text/plain": [
       "<Figure size 640x480 with 1 Axes>"
      ]
     },
     "metadata": {},
     "output_type": "display_data"
    }
   ],
   "source": [
    "# precision recall diagramm shows that altering the threshold would not improve the result\n",
    "from sklearn.metrics import precision_recall_curve\n",
    "y_scores = cross_val_predict(sgd_clf, train_prep, y_cat, cv=3,\n",
    "    method=\"decision_function\")\n",
    "\n",
    "precisions, recalls, thresholds = precision_recall_curve(y_cat, y_scores)\n",
    "def plot_precision_recall_vs_threshold(precisions, recalls, thresholds):\n",
    "    plt.plot(thresholds, precisions[:-1], \"b--\", label=\"Precision\", linewidth=2)\n",
    "    plt.plot(thresholds, recalls[:-1], \"g-\", label=\"Recall\", linewidth=2)\n",
    "plot_precision_recall_vs_threshold(precisions, recalls, thresholds)\n",
    "plt.show()\n"
   ]
  },
  {
   "cell_type": "code",
   "execution_count": 565,
   "metadata": {},
   "outputs": [],
   "source": [
    "# Trying to oversample class 1 for even distribution\n",
    "from imblearn.over_sampling import SMOTE\n",
    "\n",
    "oversample = SMOTE()\n",
    "X_train_oversampled, y_train_oversampled = oversample.fit_resample(train_prep, y_cat)\n",
    "X_train = X_train_oversampled\n",
    "y_train=y_train_oversampled"
   ]
  },
  {
   "cell_type": "code",
   "execution_count": 566,
   "metadata": {},
   "outputs": [
    {
     "name": "stdout",
     "output_type": "stream",
     "text": [
      "[[3503 4097]\n",
      " [3212 4388]]\n",
      "0.5456014920733602\n"
     ]
    }
   ],
   "source": [
    "# f1 score is really low\n",
    "from sklearn.metrics import f1_score\n",
    "from sklearn.model_selection import cross_val_predict\n",
    "from sklearn.metrics import confusion_matrix\n",
    "y_train_pred = cross_val_predict(sgd_clf, X_train, y_train, cv=3)\n",
    "print(confusion_matrix(y_train, y_train_pred))\n",
    "print(f1_score(y_train, y_train_pred))"
   ]
  },
  {
   "cell_type": "code",
   "execution_count": 567,
   "metadata": {},
   "outputs": [
    {
     "data": {
      "image/png": "[encoded data removed]",
      "text/plain": [
       "<Figure size 640x480 with 1 Axes>"
      ]
     },
     "metadata": {},
     "output_type": "display_data"
    }
   ],
   "source": [
    "# precision recall diagramm shows that altering the threshold would not improve the result\n",
    "y_scores = cross_val_predict(sgd_clf, X_train, y_train, cv=3,\n",
    "    method=\"decision_function\")\n",
    "\n",
    "precisions, recalls, thresholds = precision_recall_curve(y_train, y_scores)\n",
    "def plot_precision_recall_vs_threshold(precisions, recalls, thresholds):\n",
    "    plt.plot(thresholds, precisions[:-1], \"b--\", label=\"Precision\", linewidth=2)\n",
    "    plt.plot(thresholds, recalls[:-1], \"g-\", label=\"Recall\", linewidth=2)\n",
    "plot_precision_recall_vs_threshold(precisions, recalls, thresholds)\n",
    "plt.show()\n"
   ]
  },
  {
   "cell_type": "markdown",
   "metadata": {},
   "source": [
    "# the second group of outputs with a value of nearly 20000, seems to be totally random, since the Neural Network could not predict them and the classifier\n",
    "# only reaches an accuracy of around 50%\n",
    "# Thats why from now on I will treat them as outliers"
   ]
  },
  {
   "cell_type": "code",
   "execution_count": 568,
   "metadata": {},
   "outputs": [
    {
     "data": {
      "text/plain": [
       "array([  22.804764  ,   62.44570043, -129.51241212, ..., -147.26349347,\n",
       "        -24.35125379,  -45.10074881])"
      ]
     },
     "execution_count": 568,
     "metadata": {},
     "output_type": "execute_result"
    }
   ],
   "source": [
    "X_train = pipeline.fit_transform(X_train_filt)\n",
    "y_train_filtered\n"
   ]
  },
  {
   "cell_type": "markdown",
   "metadata": {},
   "source": [
    "# This time i start with a Neural Network"
   ]
  },
  {
   "cell_type": "code",
   "execution_count": 569,
   "metadata": {},
   "outputs": [],
   "source": [
    "import keras.models\n",
    "import keras.layers\n",
    "import tensorflow as tf\n",
    "model2 = keras.models.Sequential([\n",
    "    keras.layers.Dense(200, kernel_initializer=\"lecun_normal\",\n",
    "                                 activation=\"selu\", input_shape=[10]),\n",
    "        keras.layers.Dense(200, kernel_initializer=\"lecun_normal\",\n",
    "                                 activation=\"selu\"),\n",
    "    keras.layers.Dense(1)\n",
    "])\n",
    "optimizer=keras.optimizers.RMSprop(learning_rate=3e-3)\n",
    "model2.compile(loss=\"mean_absolute_error\", optimizer=optimizer, metrics=[tf.keras.metrics.RootMeanSquaredError()])"
   ]
  },
  {
   "cell_type": "code",
   "execution_count": 570,
   "metadata": {},
   "outputs": [
    {
     "name": "stdout",
     "output_type": "stream",
     "text": [
      "Epoch 1/100\n",
      "190/190 [==============================] - 1s 5ms/step - loss: 13.3027 - root_mean_squared_error: 24.4958 - val_loss: 9.5574 - val_root_mean_squared_error: 17.3445\n",
      "Epoch 2/100\n",
      "190/190 [==============================] - 1s 4ms/step - loss: 9.0207 - root_mean_squared_error: 18.0636 - val_loss: 9.9510 - val_root_mean_squared_error: 17.0222\n",
      "Epoch 3/100\n",
      "190/190 [==============================] - 1s 3ms/step - loss: 8.3821 - root_mean_squared_error: 17.7542 - val_loss: 7.4999 - val_root_mean_squared_error: 15.9848\n",
      "Epoch 4/100\n",
      "190/190 [==============================] - 1s 3ms/step - loss: 8.1128 - root_mean_squared_error: 17.5575 - val_loss: 8.3783 - val_root_mean_squared_error: 16.4098\n",
      "Epoch 5/100\n",
      "190/190 [==============================] - 1s 3ms/step - loss: 8.0450 - root_mean_squared_error: 17.5197 - val_loss: 7.5200 - val_root_mean_squared_error: 16.0333\n",
      "Epoch 6/100\n",
      "190/190 [==============================] - 1s 3ms/step - loss: 7.9258 - root_mean_squared_error: 17.5369 - val_loss: 6.5955 - val_root_mean_squared_error: 15.7121\n",
      "Epoch 7/100\n",
      "190/190 [==============================] - 1s 4ms/step - loss: 7.8513 - root_mean_squared_error: 17.5256 - val_loss: 6.4420 - val_root_mean_squared_error: 15.6004\n",
      "Epoch 8/100\n",
      "190/190 [==============================] - 1s 3ms/step - loss: 7.8321 - root_mean_squared_error: 17.4137 - val_loss: 6.5471 - val_root_mean_squared_error: 15.5700\n",
      "Epoch 9/100\n",
      "190/190 [==============================] - 1s 4ms/step - loss: 7.7170 - root_mean_squared_error: 17.3643 - val_loss: 6.8986 - val_root_mean_squared_error: 15.6494\n",
      "Epoch 10/100\n",
      "190/190 [==============================] - 1s 3ms/step - loss: 7.6708 - root_mean_squared_error: 17.3005 - val_loss: 6.5537 - val_root_mean_squared_error: 15.6853\n",
      "Epoch 11/100\n",
      "190/190 [==============================] - 1s 3ms/step - loss: 7.6083 - root_mean_squared_error: 17.2352 - val_loss: 6.8500 - val_root_mean_squared_error: 15.6852\n",
      "Epoch 12/100\n",
      "190/190 [==============================] - 1s 3ms/step - loss: 7.5337 - root_mean_squared_error: 17.2696 - val_loss: 7.2238 - val_root_mean_squared_error: 15.7813\n",
      "Epoch 13/100\n",
      "190/190 [==============================] - 1s 3ms/step - loss: 7.4889 - root_mean_squared_error: 17.3078 - val_loss: 7.3273 - val_root_mean_squared_error: 15.9107\n",
      "Epoch 14/100\n",
      "190/190 [==============================] - 1s 3ms/step - loss: 7.5311 - root_mean_squared_error: 17.2668 - val_loss: 6.7581 - val_root_mean_squared_error: 15.8171\n",
      "Epoch 15/100\n",
      "190/190 [==============================] - 1s 3ms/step - loss: 7.4997 - root_mean_squared_error: 17.1796 - val_loss: 6.6993 - val_root_mean_squared_error: 15.6468\n",
      "Epoch 16/100\n",
      "190/190 [==============================] - 1s 3ms/step - loss: 7.3959 - root_mean_squared_error: 17.2045 - val_loss: 6.4688 - val_root_mean_squared_error: 15.5177\n",
      "Epoch 17/100\n",
      "190/190 [==============================] - 1s 3ms/step - loss: 7.3815 - root_mean_squared_error: 17.2564 - val_loss: 6.6569 - val_root_mean_squared_error: 15.5997\n"
     ]
    }
   ],
   "source": [
    "# train_labels2=np.array(train_labels2)\n",
    "# train_prep2=np.array(train_prep2)\n",
    "\n",
    "import keras.callbacks\n",
    "early_stopping_cb = keras.callbacks.EarlyStopping(patience=10)\n",
    "# trains the Neural Network\n",
    "history=model2.fit(X_train, y_train_filtered, epochs=100,\n",
    "          validation_split=0.2,\n",
    "          callbacks = early_stopping_cb, batch_size=32)\n"
   ]
  },
  {
   "cell_type": "code",
   "execution_count": 571,
   "metadata": {},
   "outputs": [
    {
     "name": "stdout",
     "output_type": "stream",
     "text": [
      "Scores: [18.39582481 18.86203628 16.70271737 17.23385806 14.8641487  17.63831649\n",
      " 18.12806182 18.01235844 16.29060648 15.06017884]\n",
      "Mean: 17.118810729992457\n",
      "Standard deviation: 1.3019316326271824\n"
     ]
    }
   ],
   "source": [
    "# Train a linear regression model\n",
    "lin_reg = LinearRegression()\n",
    "lin_reg.fit(X_train, y_train_filtered)\n",
    "lin_scores = cross_val_score(lin_reg, X_train, y_train_filtered,\n",
    "        scoring=\"neg_mean_squared_error\", cv=10)\n",
    "lin_rmse_scores = np.sqrt(-lin_scores)\n",
    "display_scores(lin_rmse_scores)"
   ]
  },
  {
   "cell_type": "code",
   "execution_count": 572,
   "metadata": {},
   "outputs": [
    {
     "name": "stdout",
     "output_type": "stream",
     "text": [
      "Feature: 0, Score: -11.01308\n",
      "Feature: 1, Score: -0.29657\n",
      "Feature: 2, Score: -36.77143\n",
      "Feature: 3, Score: -54.41896\n",
      "Feature: 4, Score: 0.66980\n",
      "Feature: 5, Score: -32.79605\n",
      "Feature: 6, Score: -0.01146\n",
      "Feature: 7, Score: -0.54274\n",
      "Feature: 8, Score: 9.32784\n",
      "Feature: 9, Score: -0.09666\n"
     ]
    },
    {
     "data": {
      "text/plain": [
       "[11.013082980045978,\n",
       " 0.2965740193724713,\n",
       " 36.77143428274471,\n",
       " 54.41896029333599,\n",
       " 0.6698037493518036,\n",
       " 32.79604941725585,\n",
       " 0.01146222913031636,\n",
       " 0.5427350200844907,\n",
       " 9.327842837311177,\n",
       " 0.09666402651980732]"
      ]
     },
     "execution_count": 572,
     "metadata": {},
     "output_type": "execute_result"
    }
   ],
   "source": [
    "importance = lin_reg.coef_\n",
    "feature_importances = []\n",
    "for i,v in enumerate(importance):\n",
    "\tprint('Feature: %0d, Score: %.5f' % (i,v))\n",
    "\tfeature_importances.append(abs(v))\n",
    "#print(feature_importances)\n",
    "#feature_importances = sorted(zip(feature_importances, np.arange(10)), reverse=True)\n",
    "feature_importances"
   ]
  },
  {
   "cell_type": "code",
   "execution_count": 573,
   "metadata": {},
   "outputs": [
    {
     "name": "stdout",
     "output_type": "stream",
     "text": [
      "Scores: [18.39582481 18.86203628 16.70271737 17.23385806 14.8641487  17.63831649\n",
      " 18.12806182 18.01235844 16.29060648 15.06017884]\n",
      "Mean: 17.118810729992457\n",
      "Standard deviation: 1.3019316326271824\n"
     ]
    }
   ],
   "source": [
    "# Train a polynomial regression model\n",
    "from sklearn.preprocessing import PolynomialFeatures\n",
    "poly_features = PolynomialFeatures(degree=4, include_bias=False)\n",
    "X_poly = poly_features.fit_transform(X_train)\n",
    "\n",
    "lin_reg = LinearRegression()\n",
    "lin_reg.fit(X_poly, y_train_filtered)\n",
    "lin_scores = cross_val_score(lin_reg, X_train, y_train_filtered,\n",
    "        scoring=\"neg_mean_squared_error\", cv=10)\n",
    "lin_rmse_scores = np.sqrt(-lin_scores)\n",
    "display_scores(lin_rmse_scores)"
   ]
  },
  {
   "cell_type": "code",
   "execution_count": 574,
   "metadata": {},
   "outputs": [
    {
     "name": "stdout",
     "output_type": "stream",
     "text": [
      "Scores: [14.94087515 16.32307035 16.20894623 14.9810925  12.91079661 14.90339378\n",
      " 16.59816877 18.04666155 13.15758601 13.04833608]\n",
      "Mean: 15.111892702955373\n",
      "Standard deviation: 1.6280231766106539\n"
     ]
    }
   ],
   "source": [
    "# train a randomforest Regressor\n",
    "from sklearn.ensemble import RandomForestRegressor\n",
    "\n",
    "forest_reg = RandomForestRegressor(n_estimators=100)\n",
    "forest_reg.fit(X_train, y_train_filtered)\n",
    "\n",
    "from sklearn.model_selection import cross_val_score\n",
    "\n",
    "forest_scores = cross_val_score(forest_reg, X_train, y_train_filtered,\n",
    "                                scoring=\"neg_mean_squared_error\", cv=10)\n",
    "forest_rmse_scores = np.sqrt(-forest_scores)\n",
    "display_scores(forest_rmse_scores)"
   ]
  },
  {
   "cell_type": "code",
   "execution_count": null,
   "metadata": {},
   "outputs": [],
   "source": []
  },
  {
   "cell_type": "code",
   "execution_count": 575,
   "metadata": {},
   "outputs": [
    {
     "data": {
      "text/html": [
       "<style>#sk-container-id-22 {color: black;background-color: white;}#sk-container-id-22 pre{padding: 0;}#sk-container-id-22 div.sk-toggleable {background-color: white;}#sk-container-id-22 label.sk-toggleable__label {cursor: pointer;display: block;width: 100%;margin-bottom: 0;padding: 0.3em;box-sizing: border-box;text-align: center;}#sk-container-id-22 label.sk-toggleable__label-arrow:before {content: \"▸\";float: left;margin-right: 0.25em;color: #696969;}#sk-container-id-22 label.sk-toggleable__label-arrow:hover:before {color: black;}#sk-container-id-22 div.sk-estimator:hover label.sk-toggleable__label-arrow:before {color: black;}#sk-container-id-22 div.sk-toggleable__content {max-height: 0;max-width: 0;overflow: hidden;text-align: left;background-color: #f0f8ff;}#sk-container-id-22 div.sk-toggleable__content pre {margin: 0.2em;color: black;border-radius: 0.25em;background-color: #f0f8ff;}#sk-container-id-22 input.sk-toggleable__control:checked~div.sk-toggleable__content {max-height: 200px;max-width: 100%;overflow: auto;}#sk-container-id-22 input.sk-toggleable__control:checked~label.sk-toggleable__label-arrow:before {content: \"▾\";}#sk-container-id-22 div.sk-estimator input.sk-toggleable__control:checked~label.sk-toggleable__label {background-color: #d4ebff;}#sk-container-id-22 div.sk-label input.sk-toggleable__control:checked~label.sk-toggleable__label {background-color: #d4ebff;}#sk-container-id-22 input.sk-hidden--visually {border: 0;clip: rect(1px 1px 1px 1px);clip: rect(1px, 1px, 1px, 1px);height: 1px;margin: -1px;overflow: hidden;padding: 0;position: absolute;width: 1px;}#sk-container-id-22 div.sk-estimator {font-family: monospace;background-color: #f0f8ff;border: 1px dotted black;border-radius: 0.25em;box-sizing: border-box;margin-bottom: 0.5em;}#sk-container-id-22 div.sk-estimator:hover {background-color: #d4ebff;}#sk-container-id-22 div.sk-parallel-item::after {content: \"\";width: 100%;border-bottom: 1px solid gray;flex-grow: 1;}#sk-container-id-22 div.sk-label:hover label.sk-toggleable__label {background-color: #d4ebff;}#sk-container-id-22 div.sk-serial::before {content: \"\";position: absolute;border-left: 1px solid gray;box-sizing: border-box;top: 0;bottom: 0;left: 50%;z-index: 0;}#sk-container-id-22 div.sk-serial {display: flex;flex-direction: column;align-items: center;background-color: white;padding-right: 0.2em;padding-left: 0.2em;position: relative;}#sk-container-id-22 div.sk-item {position: relative;z-index: 1;}#sk-container-id-22 div.sk-parallel {display: flex;align-items: stretch;justify-content: center;background-color: white;position: relative;}#sk-container-id-22 div.sk-item::before, #sk-container-id-22 div.sk-parallel-item::before {content: \"\";position: absolute;border-left: 1px solid gray;box-sizing: border-box;top: 0;bottom: 0;left: 50%;z-index: -1;}#sk-container-id-22 div.sk-parallel-item {display: flex;flex-direction: column;z-index: 1;position: relative;background-color: white;}#sk-container-id-22 div.sk-parallel-item:first-child::after {align-self: flex-end;width: 50%;}#sk-container-id-22 div.sk-parallel-item:last-child::after {align-self: flex-start;width: 50%;}#sk-container-id-22 div.sk-parallel-item:only-child::after {width: 0;}#sk-container-id-22 div.sk-dashed-wrapped {border: 1px dashed gray;margin: 0 0.4em 0.5em 0.4em;box-sizing: border-box;padding-bottom: 0.4em;background-color: white;}#sk-container-id-22 div.sk-label label {font-family: monospace;font-weight: bold;display: inline-block;line-height: 1.2em;}#sk-container-id-22 div.sk-label-container {text-align: center;}#sk-container-id-22 div.sk-container {/* jupyter's `normalize.less` sets `[hidden] { display: none; }` but bootstrap.min.css set `[hidden] { display: none !important; }` so we also need the `!important` here to be able to override the default hidden behavior on the sphinx rendered scikit-learn.org. See: https://github.com/scikit-learn/scikit-learn/issues/21755 */display: inline-block !important;position: relative;}#sk-container-id-22 div.sk-text-repr-fallback {display: none;}</style><div id=\"sk-container-id-22\" class=\"sk-top-container\"><div class=\"sk-text-repr-fallback\"><pre>GridSearchCV(cv=3, estimator=RandomForestRegressor(),\n",
       "             param_grid=[{&#x27;max_features&#x27;: [3, 2, 1],\n",
       "                          &#x27;n_estimators&#x27;: [200, 300, 400]}],\n",
       "             return_train_score=True, scoring=&#x27;neg_mean_squared_error&#x27;)</pre><b>In a Jupyter environment, please rerun this cell to show the HTML representation or trust the notebook. <br />On GitHub, the HTML representation is unable to render, please try loading this page with nbviewer.org.</b></div><div class=\"sk-container\" hidden><div class=\"sk-item sk-dashed-wrapped\"><div class=\"sk-label-container\"><div class=\"sk-label sk-toggleable\"><input class=\"sk-toggleable__control sk-hidden--visually\" id=\"sk-estimator-id-82\" type=\"checkbox\" ><label for=\"sk-estimator-id-82\" class=\"sk-toggleable__label sk-toggleable__label-arrow\">GridSearchCV</label><div class=\"sk-toggleable__content\"><pre>GridSearchCV(cv=3, estimator=RandomForestRegressor(),\n",
       "             param_grid=[{&#x27;max_features&#x27;: [3, 2, 1],\n",
       "                          &#x27;n_estimators&#x27;: [200, 300, 400]}],\n",
       "             return_train_score=True, scoring=&#x27;neg_mean_squared_error&#x27;)</pre></div></div></div><div class=\"sk-parallel\"><div class=\"sk-parallel-item\"><div class=\"sk-item\"><div class=\"sk-label-container\"><div class=\"sk-label sk-toggleable\"><input class=\"sk-toggleable__control sk-hidden--visually\" id=\"sk-estimator-id-83\" type=\"checkbox\" ><label for=\"sk-estimator-id-83\" class=\"sk-toggleable__label sk-toggleable__label-arrow\">estimator: RandomForestRegressor</label><div class=\"sk-toggleable__content\"><pre>RandomForestRegressor()</pre></div></div></div><div class=\"sk-serial\"><div class=\"sk-item\"><div class=\"sk-estimator sk-toggleable\"><input class=\"sk-toggleable__control sk-hidden--visually\" id=\"sk-estimator-id-84\" type=\"checkbox\" ><label for=\"sk-estimator-id-84\" class=\"sk-toggleable__label sk-toggleable__label-arrow\">RandomForestRegressor</label><div class=\"sk-toggleable__content\"><pre>RandomForestRegressor()</pre></div></div></div></div></div></div></div></div></div></div>"
      ],
      "text/plain": [
       "GridSearchCV(cv=3, estimator=RandomForestRegressor(),\n",
       "             param_grid=[{'max_features': [3, 2, 1],\n",
       "                          'n_estimators': [200, 300, 400]}],\n",
       "             return_train_score=True, scoring='neg_mean_squared_error')"
      ]
     },
     "execution_count": 575,
     "metadata": {},
     "output_type": "execute_result"
    }
   ],
   "source": [
    "from sklearn.model_selection import GridSearchCV\n",
    "forest_reg2 = RandomForestRegressor(n_estimators=100)\n",
    "param_grid_modelparameter = [{\n",
    "            \n",
    "            'n_estimators': [200,300,400],\n",
    "            'max_features': [3, 2, 1],\n",
    "            }]\n",
    "\n",
    "grid_search1 = GridSearchCV(forest_reg, param_grid_modelparameter, cv=3,\n",
    "        scoring='neg_mean_squared_error',\n",
    "return_train_score=True)\n",
    "grid_search1.fit(X_train, y_train_filtered)"
   ]
  },
  {
   "cell_type": "code",
   "execution_count": 576,
   "metadata": {},
   "outputs": [
    {
     "data": {
      "text/plain": [
       "{'max_features': 2, 'n_estimators': 400}"
      ]
     },
     "execution_count": 576,
     "metadata": {},
     "output_type": "execute_result"
    }
   ],
   "source": [
    "grid_search1.best_params_"
   ]
  },
  {
   "cell_type": "code",
   "execution_count": 577,
   "metadata": {},
   "outputs": [
    {
     "data": {
      "text/plain": [
       "array([0.05321951, 0.0270848 , 0.14090403, 0.37068194, 0.03883523,\n",
       "       0.19571958, 0.03979281, 0.04158053, 0.04941455, 0.04276704])"
      ]
     },
     "execution_count": 577,
     "metadata": {},
     "output_type": "execute_result"
    }
   ],
   "source": [
    "feature_importances = grid_search1.best_estimator_.feature_importances_\n",
    "feature_importances"
   ]
  },
  {
   "cell_type": "code",
   "execution_count": 578,
   "metadata": {},
   "outputs": [
    {
     "name": "stdout",
     "output_type": "stream",
     "text": [
      "14.69080406599873 {'max_features': 3, 'n_estimators': 200}\n",
      "14.62932942109197 {'max_features': 3, 'n_estimators': 300}\n",
      "14.628467414528428 {'max_features': 3, 'n_estimators': 400}\n",
      "14.553666715673677 {'max_features': 2, 'n_estimators': 200}\n",
      "14.538405915917384 {'max_features': 2, 'n_estimators': 300}\n",
      "14.529673832989662 {'max_features': 2, 'n_estimators': 400}\n",
      "16.169913147507458 {'max_features': 1, 'n_estimators': 200}\n",
      "16.09379796574725 {'max_features': 1, 'n_estimators': 300}\n",
      "15.990796258282383 {'max_features': 1, 'n_estimators': 400}\n"
     ]
    }
   ],
   "source": [
    "cvres = grid_search1.cv_results_\n",
    "for mean_score, params in zip(cvres[\"mean_test_score\"], cvres[\"params\"]):\n",
    "    print(np.sqrt(-mean_score), params)"
   ]
  },
  {
   "cell_type": "code",
   "execution_count": 579,
   "metadata": {},
   "outputs": [],
   "source": [
    "def indices_of_top_k(arr, k):\n",
    "    return np.sort(np.argpartition(np.array(arr), -k)[-k:])\n",
    "\n",
    "class TopFeatureSelector(BaseEstimator, TransformerMixin):\n",
    "    def __init__(self, feature_importances, k):\n",
    "        self.feature_importances = feature_importances\n",
    "        self.k = k\n",
    "    def fit(self, X, y=None):\n",
    "        self.feature_indices_ = indices_of_top_k(self.feature_importances, self.k)\n",
    "        return self\n",
    "    def transform(self, X):\n",
    "        return X[:, self.feature_indices_]"
   ]
  },
  {
   "cell_type": "code",
   "execution_count": 582,
   "metadata": {},
   "outputs": [
    {
     "data": {
      "text/html": [
       "<style>#sk-container-id-23 {color: black;background-color: white;}#sk-container-id-23 pre{padding: 0;}#sk-container-id-23 div.sk-toggleable {background-color: white;}#sk-container-id-23 label.sk-toggleable__label {cursor: pointer;display: block;width: 100%;margin-bottom: 0;padding: 0.3em;box-sizing: border-box;text-align: center;}#sk-container-id-23 label.sk-toggleable__label-arrow:before {content: \"▸\";float: left;margin-right: 0.25em;color: #696969;}#sk-container-id-23 label.sk-toggleable__label-arrow:hover:before {color: black;}#sk-container-id-23 div.sk-estimator:hover label.sk-toggleable__label-arrow:before {color: black;}#sk-container-id-23 div.sk-toggleable__content {max-height: 0;max-width: 0;overflow: hidden;text-align: left;background-color: #f0f8ff;}#sk-container-id-23 div.sk-toggleable__content pre {margin: 0.2em;color: black;border-radius: 0.25em;background-color: #f0f8ff;}#sk-container-id-23 input.sk-toggleable__control:checked~div.sk-toggleable__content {max-height: 200px;max-width: 100%;overflow: auto;}#sk-container-id-23 input.sk-toggleable__control:checked~label.sk-toggleable__label-arrow:before {content: \"▾\";}#sk-container-id-23 div.sk-estimator input.sk-toggleable__control:checked~label.sk-toggleable__label {background-color: #d4ebff;}#sk-container-id-23 div.sk-label input.sk-toggleable__control:checked~label.sk-toggleable__label {background-color: #d4ebff;}#sk-container-id-23 input.sk-hidden--visually {border: 0;clip: rect(1px 1px 1px 1px);clip: rect(1px, 1px, 1px, 1px);height: 1px;margin: -1px;overflow: hidden;padding: 0;position: absolute;width: 1px;}#sk-container-id-23 div.sk-estimator {font-family: monospace;background-color: #f0f8ff;border: 1px dotted black;border-radius: 0.25em;box-sizing: border-box;margin-bottom: 0.5em;}#sk-container-id-23 div.sk-estimator:hover {background-color: #d4ebff;}#sk-container-id-23 div.sk-parallel-item::after {content: \"\";width: 100%;border-bottom: 1px solid gray;flex-grow: 1;}#sk-container-id-23 div.sk-label:hover label.sk-toggleable__label {background-color: #d4ebff;}#sk-container-id-23 div.sk-serial::before {content: \"\";position: absolute;border-left: 1px solid gray;box-sizing: border-box;top: 0;bottom: 0;left: 50%;z-index: 0;}#sk-container-id-23 div.sk-serial {display: flex;flex-direction: column;align-items: center;background-color: white;padding-right: 0.2em;padding-left: 0.2em;position: relative;}#sk-container-id-23 div.sk-item {position: relative;z-index: 1;}#sk-container-id-23 div.sk-parallel {display: flex;align-items: stretch;justify-content: center;background-color: white;position: relative;}#sk-container-id-23 div.sk-item::before, #sk-container-id-23 div.sk-parallel-item::before {content: \"\";position: absolute;border-left: 1px solid gray;box-sizing: border-box;top: 0;bottom: 0;left: 50%;z-index: -1;}#sk-container-id-23 div.sk-parallel-item {display: flex;flex-direction: column;z-index: 1;position: relative;background-color: white;}#sk-container-id-23 div.sk-parallel-item:first-child::after {align-self: flex-end;width: 50%;}#sk-container-id-23 div.sk-parallel-item:last-child::after {align-self: flex-start;width: 50%;}#sk-container-id-23 div.sk-parallel-item:only-child::after {width: 0;}#sk-container-id-23 div.sk-dashed-wrapped {border: 1px dashed gray;margin: 0 0.4em 0.5em 0.4em;box-sizing: border-box;padding-bottom: 0.4em;background-color: white;}#sk-container-id-23 div.sk-label label {font-family: monospace;font-weight: bold;display: inline-block;line-height: 1.2em;}#sk-container-id-23 div.sk-label-container {text-align: center;}#sk-container-id-23 div.sk-container {/* jupyter's `normalize.less` sets `[hidden] { display: none; }` but bootstrap.min.css set `[hidden] { display: none !important; }` so we also need the `!important` here to be able to override the default hidden behavior on the sphinx rendered scikit-learn.org. See: https://github.com/scikit-learn/scikit-learn/issues/21755 */display: inline-block !important;position: relative;}#sk-container-id-23 div.sk-text-repr-fallback {display: none;}</style><div id=\"sk-container-id-23\" class=\"sk-top-container\"><div class=\"sk-text-repr-fallback\"><pre>GridSearchCV(cv=3,\n",
       "             estimator=Pipeline(steps=[(&#x27;preparation&#x27;,\n",
       "                                        Pipeline(steps=[(&#x27;imputer&#x27;,\n",
       "                                                         SimpleImputer(strategy=&#x27;median&#x27;)),\n",
       "                                                        (&#x27;std_scaler&#x27;,\n",
       "                                                         StandardScaler())])),\n",
       "                                       (&#x27;feature_selection&#x27;,\n",
       "                                        TopFeatureSelector(feature_importances=array([0.05321951, 0.0270848 , 0.14090403, 0.37068194, 0.03883523,\n",
       "       0.19571958, 0.03979281, 0.04158053, 0.04941455, 0.04276704]),\n",
       "                                                           k=5)),\n",
       "                                       (&#x27;forest_reg&#x27;,\n",
       "                                        RandomForestRegressor(max_features=2,\n",
       "                                                              n_estimators=400))]),\n",
       "             param_grid=[{&#x27;feature_selection__k&#x27;: [3, 4, 5, 6, 7, 8, 9, 10],\n",
       "                          &#x27;preparation__imputer__strategy&#x27;: [&#x27;mean&#x27;, &#x27;median&#x27;,\n",
       "                                                             &#x27;most_frequent&#x27;,\n",
       "                                                             &#x27;constant&#x27;]}],\n",
       "             return_train_score=True, scoring=&#x27;neg_mean_squared_error&#x27;)</pre><b>In a Jupyter environment, please rerun this cell to show the HTML representation or trust the notebook. <br />On GitHub, the HTML representation is unable to render, please try loading this page with nbviewer.org.</b></div><div class=\"sk-container\" hidden><div class=\"sk-item sk-dashed-wrapped\"><div class=\"sk-label-container\"><div class=\"sk-label sk-toggleable\"><input class=\"sk-toggleable__control sk-hidden--visually\" id=\"sk-estimator-id-85\" type=\"checkbox\" ><label for=\"sk-estimator-id-85\" class=\"sk-toggleable__label sk-toggleable__label-arrow\">GridSearchCV</label><div class=\"sk-toggleable__content\"><pre>GridSearchCV(cv=3,\n",
       "             estimator=Pipeline(steps=[(&#x27;preparation&#x27;,\n",
       "                                        Pipeline(steps=[(&#x27;imputer&#x27;,\n",
       "                                                         SimpleImputer(strategy=&#x27;median&#x27;)),\n",
       "                                                        (&#x27;std_scaler&#x27;,\n",
       "                                                         StandardScaler())])),\n",
       "                                       (&#x27;feature_selection&#x27;,\n",
       "                                        TopFeatureSelector(feature_importances=array([0.05321951, 0.0270848 , 0.14090403, 0.37068194, 0.03883523,\n",
       "       0.19571958, 0.03979281, 0.04158053, 0.04941455, 0.04276704]),\n",
       "                                                           k=5)),\n",
       "                                       (&#x27;forest_reg&#x27;,\n",
       "                                        RandomForestRegressor(max_features=2,\n",
       "                                                              n_estimators=400))]),\n",
       "             param_grid=[{&#x27;feature_selection__k&#x27;: [3, 4, 5, 6, 7, 8, 9, 10],\n",
       "                          &#x27;preparation__imputer__strategy&#x27;: [&#x27;mean&#x27;, &#x27;median&#x27;,\n",
       "                                                             &#x27;most_frequent&#x27;,\n",
       "                                                             &#x27;constant&#x27;]}],\n",
       "             return_train_score=True, scoring=&#x27;neg_mean_squared_error&#x27;)</pre></div></div></div><div class=\"sk-parallel\"><div class=\"sk-parallel-item\"><div class=\"sk-item\"><div class=\"sk-label-container\"><div class=\"sk-label sk-toggleable\"><input class=\"sk-toggleable__control sk-hidden--visually\" id=\"sk-estimator-id-86\" type=\"checkbox\" ><label for=\"sk-estimator-id-86\" class=\"sk-toggleable__label sk-toggleable__label-arrow\">estimator: Pipeline</label><div class=\"sk-toggleable__content\"><pre>Pipeline(steps=[(&#x27;preparation&#x27;,\n",
       "                 Pipeline(steps=[(&#x27;imputer&#x27;, SimpleImputer(strategy=&#x27;median&#x27;)),\n",
       "                                 (&#x27;std_scaler&#x27;, StandardScaler())])),\n",
       "                (&#x27;feature_selection&#x27;,\n",
       "                 TopFeatureSelector(feature_importances=array([0.05321951, 0.0270848 , 0.14090403, 0.37068194, 0.03883523,\n",
       "       0.19571958, 0.03979281, 0.04158053, 0.04941455, 0.04276704]),\n",
       "                                    k=5)),\n",
       "                (&#x27;forest_reg&#x27;,\n",
       "                 RandomForestRegressor(max_features=2, n_estimators=400))])</pre></div></div></div><div class=\"sk-serial\"><div class=\"sk-item\"><div class=\"sk-serial\"><div class=\"sk-item\"><div class=\"sk-label-container\"><div class=\"sk-label sk-toggleable\"><input class=\"sk-toggleable__control sk-hidden--visually\" id=\"sk-estimator-id-87\" type=\"checkbox\" ><label for=\"sk-estimator-id-87\" class=\"sk-toggleable__label sk-toggleable__label-arrow\">preparation: Pipeline</label><div class=\"sk-toggleable__content\"><pre>Pipeline(steps=[(&#x27;imputer&#x27;, SimpleImputer(strategy=&#x27;median&#x27;)),\n",
       "                (&#x27;std_scaler&#x27;, StandardScaler())])</pre></div></div></div><div class=\"sk-serial\"><div class=\"sk-item\"><div class=\"sk-estimator sk-toggleable\"><input class=\"sk-toggleable__control sk-hidden--visually\" id=\"sk-estimator-id-88\" type=\"checkbox\" ><label for=\"sk-estimator-id-88\" class=\"sk-toggleable__label sk-toggleable__label-arrow\">SimpleImputer</label><div class=\"sk-toggleable__content\"><pre>SimpleImputer(strategy=&#x27;median&#x27;)</pre></div></div></div><div class=\"sk-item\"><div class=\"sk-estimator sk-toggleable\"><input class=\"sk-toggleable__control sk-hidden--visually\" id=\"sk-estimator-id-89\" type=\"checkbox\" ><label for=\"sk-estimator-id-89\" class=\"sk-toggleable__label sk-toggleable__label-arrow\">StandardScaler</label><div class=\"sk-toggleable__content\"><pre>StandardScaler()</pre></div></div></div></div></div><div class=\"sk-item\"><div class=\"sk-estimator sk-toggleable\"><input class=\"sk-toggleable__control sk-hidden--visually\" id=\"sk-estimator-id-90\" type=\"checkbox\" ><label for=\"sk-estimator-id-90\" class=\"sk-toggleable__label sk-toggleable__label-arrow\">TopFeatureSelector</label><div class=\"sk-toggleable__content\"><pre>TopFeatureSelector(feature_importances=array([0.05321951, 0.0270848 , 0.14090403, 0.37068194, 0.03883523,\n",
       "       0.19571958, 0.03979281, 0.04158053, 0.04941455, 0.04276704]),\n",
       "                   k=5)</pre></div></div></div><div class=\"sk-item\"><div class=\"sk-estimator sk-toggleable\"><input class=\"sk-toggleable__control sk-hidden--visually\" id=\"sk-estimator-id-91\" type=\"checkbox\" ><label for=\"sk-estimator-id-91\" class=\"sk-toggleable__label sk-toggleable__label-arrow\">RandomForestRegressor</label><div class=\"sk-toggleable__content\"><pre>RandomForestRegressor(max_features=2, n_estimators=400)</pre></div></div></div></div></div></div></div></div></div></div></div></div>"
      ],
      "text/plain": [
       "GridSearchCV(cv=3,\n",
       "             estimator=Pipeline(steps=[('preparation',\n",
       "                                        Pipeline(steps=[('imputer',\n",
       "                                                         SimpleImputer(strategy='median')),\n",
       "                                                        ('std_scaler',\n",
       "                                                         StandardScaler())])),\n",
       "                                       ('feature_selection',\n",
       "                                        TopFeatureSelector(feature_importances=array([0.05321951, 0.0270848 , 0.14090403, 0.37068194, 0.03883523,\n",
       "       0.19571958, 0.03979281, 0.04158053, 0.04941455, 0.04276704]),\n",
       "                                                           k=5)),\n",
       "                                       ('forest_reg',\n",
       "                                        RandomForestRegressor(max_features=2,\n",
       "                                                              n_estimators=400))]),\n",
       "             param_grid=[{'feature_selection__k': [3, 4, 5, 6, 7, 8, 9, 10],\n",
       "                          'preparation__imputer__strategy': ['mean', 'median',\n",
       "                                                             'most_frequent',\n",
       "                                                             'constant']}],\n",
       "             return_train_score=True, scoring='neg_mean_squared_error')"
      ]
     },
     "execution_count": 582,
     "metadata": {},
     "output_type": "execute_result"
    }
   ],
   "source": [
    "# Train a linear regression model\n",
    "\n",
    "prepare_predict_pipeline = Pipeline([\n",
    "    ('preparation', pipeline),   \n",
    "    ('feature_selection', TopFeatureSelector(feature_importances, k)),\n",
    "    ('forest_reg', RandomForestRegressor(**grid_search1.best_params_))\n",
    "])\n",
    "from sklearn.model_selection import GridSearchCV\n",
    "param_grid = [{\n",
    "            \"preparation__imputer__strategy\": ['mean', 'median', 'most_frequent', 'constant'],\n",
    "            'feature_selection__k': list(range(3, len(feature_importances) + 1))}]\n",
    "\n",
    "grid_search2 = GridSearchCV(prepare_predict_pipeline, param_grid, cv=3,\n",
    "        scoring='neg_mean_squared_error',\n",
    "return_train_score=True)\n",
    "grid_search2.fit(X_train, y_train_filtered)\n"
   ]
  },
  {
   "cell_type": "code",
   "execution_count": 584,
   "metadata": {},
   "outputs": [
    {
     "data": {
      "text/plain": [
       "{'feature_selection__k': 10, 'preparation__imputer__strategy': 'median'}"
      ]
     },
     "execution_count": 584,
     "metadata": {},
     "output_type": "execute_result"
    }
   ],
   "source": [
    "grid_search2.best_params_"
   ]
  },
  {
   "cell_type": "code",
   "execution_count": 586,
   "metadata": {},
   "outputs": [
    {
     "name": "stdout",
     "output_type": "stream",
     "text": [
      "19.099135431117293 {'feature_selection__k': 3, 'preparation__imputer__strategy': 'mean'}\n",
      "19.130695208489055 {'feature_selection__k': 3, 'preparation__imputer__strategy': 'median'}\n",
      "19.05559698025629 {'feature_selection__k': 3, 'preparation__imputer__strategy': 'most_frequent'}\n",
      "19.11496682641879 {'feature_selection__k': 3, 'preparation__imputer__strategy': 'constant'}\n",
      "16.859587803841265 {'feature_selection__k': 4, 'preparation__imputer__strategy': 'mean'}\n",
      "16.838393264778905 {'feature_selection__k': 4, 'preparation__imputer__strategy': 'median'}\n",
      "16.854277433756728 {'feature_selection__k': 4, 'preparation__imputer__strategy': 'most_frequent'}\n",
      "16.841770742514143 {'feature_selection__k': 4, 'preparation__imputer__strategy': 'constant'}\n",
      "15.918438999031332 {'feature_selection__k': 5, 'preparation__imputer__strategy': 'mean'}\n",
      "15.920434689106251 {'feature_selection__k': 5, 'preparation__imputer__strategy': 'median'}\n",
      "15.913843866113117 {'feature_selection__k': 5, 'preparation__imputer__strategy': 'most_frequent'}\n",
      "15.900546187032765 {'feature_selection__k': 5, 'preparation__imputer__strategy': 'constant'}\n",
      "15.533950342015423 {'feature_selection__k': 6, 'preparation__imputer__strategy': 'mean'}\n",
      "15.539783505847915 {'feature_selection__k': 6, 'preparation__imputer__strategy': 'median'}\n",
      "15.539390306922542 {'feature_selection__k': 6, 'preparation__imputer__strategy': 'most_frequent'}\n",
      "15.59634434474105 {'feature_selection__k': 6, 'preparation__imputer__strategy': 'constant'}\n",
      "15.175321607563072 {'feature_selection__k': 7, 'preparation__imputer__strategy': 'mean'}\n",
      "15.103565700490359 {'feature_selection__k': 7, 'preparation__imputer__strategy': 'median'}\n",
      "15.16792905491185 {'feature_selection__k': 7, 'preparation__imputer__strategy': 'most_frequent'}\n",
      "15.152538170480303 {'feature_selection__k': 7, 'preparation__imputer__strategy': 'constant'}\n",
      "14.791496116953663 {'feature_selection__k': 8, 'preparation__imputer__strategy': 'mean'}\n",
      "14.839139713426398 {'feature_selection__k': 8, 'preparation__imputer__strategy': 'median'}\n",
      "14.845974692311314 {'feature_selection__k': 8, 'preparation__imputer__strategy': 'most_frequent'}\n",
      "14.848708392025467 {'feature_selection__k': 8, 'preparation__imputer__strategy': 'constant'}\n",
      "14.56242549358864 {'feature_selection__k': 9, 'preparation__imputer__strategy': 'mean'}\n",
      "14.622214272253192 {'feature_selection__k': 9, 'preparation__imputer__strategy': 'median'}\n",
      "14.580280611343522 {'feature_selection__k': 9, 'preparation__imputer__strategy': 'most_frequent'}\n",
      "14.604580282015124 {'feature_selection__k': 9, 'preparation__imputer__strategy': 'constant'}\n",
      "14.535386575337954 {'feature_selection__k': 10, 'preparation__imputer__strategy': 'mean'}\n",
      "14.476231400704112 {'feature_selection__k': 10, 'preparation__imputer__strategy': 'median'}\n",
      "14.483768031129921 {'feature_selection__k': 10, 'preparation__imputer__strategy': 'most_frequent'}\n",
      "14.551179345027451 {'feature_selection__k': 10, 'preparation__imputer__strategy': 'constant'}\n"
     ]
    }
   ],
   "source": [
    "cvres = grid_search2.cv_results_\n",
    "for mean_score, params in zip(cvres[\"mean_test_score\"], cvres[\"params\"]):\n",
    "    print(np.sqrt(-mean_score), params)\n",
    "\n"
   ]
  },
  {
   "cell_type": "code",
   "execution_count": 590,
   "metadata": {},
   "outputs": [],
   "source": [
    "test_set_filt = test_set.drop(test_set[test_set[\"y\"]>10000].index)\n",
    "X_test_filt = test_set_filt.drop([\"y\",\"y_cat\"], axis=1)      \n",
    "\n",
    "y_test_filt = test_set_filt[\"y\"].copy()\n",
    "\n",
    "X_test_unfilt = test_set.drop([\"y\",\"y_cat\"], axis=1)      \n",
    "\n",
    "y_test_unfilt = test_set[\"y\"].copy()\n"
   ]
  },
  {
   "cell_type": "code",
   "execution_count": 591,
   "metadata": {},
   "outputs": [
    {
     "name": "stdout",
     "output_type": "stream",
     "text": [
      "981.2921854609053 4359.965988300812\n",
      "6.900462484638475 14.10319119356496\n"
     ]
    }
   ],
   "source": [
    "from sklearn.metrics import mean_absolute_error\n",
    "from sklearn.metrics import mean_squared_error\n",
    "\n",
    "model = grid_search2.best_estimator_\n",
    "test_predictions = model.predict(X_test_unfiltered)\n",
    "test_predictions2 = model.predict(X_test_filtered)\n",
    "model_mae = mean_absolute_error(y_test, test_predictions)\n",
    "model_mae2 = mean_absolute_error(y_test_filtered, test_predictions2)\n",
    "\n",
    "print(model_mae, np.sqrt(mean_squared_error(y_test, test_predictions)))\n",
    "print(model_mae2, np.sqrt(mean_squared_error(y_test_filtered, test_predictions2)))"
   ]
  },
  {
   "cell_type": "code",
   "execution_count": 594,
   "metadata": {},
   "outputs": [
    {
     "data": {
      "text/html": [
       "<style>#sk-container-id-24 {color: black;background-color: white;}#sk-container-id-24 pre{padding: 0;}#sk-container-id-24 div.sk-toggleable {background-color: white;}#sk-container-id-24 label.sk-toggleable__label {cursor: pointer;display: block;width: 100%;margin-bottom: 0;padding: 0.3em;box-sizing: border-box;text-align: center;}#sk-container-id-24 label.sk-toggleable__label-arrow:before {content: \"▸\";float: left;margin-right: 0.25em;color: #696969;}#sk-container-id-24 label.sk-toggleable__label-arrow:hover:before {color: black;}#sk-container-id-24 div.sk-estimator:hover label.sk-toggleable__label-arrow:before {color: black;}#sk-container-id-24 div.sk-toggleable__content {max-height: 0;max-width: 0;overflow: hidden;text-align: left;background-color: #f0f8ff;}#sk-container-id-24 div.sk-toggleable__content pre {margin: 0.2em;color: black;border-radius: 0.25em;background-color: #f0f8ff;}#sk-container-id-24 input.sk-toggleable__control:checked~div.sk-toggleable__content {max-height: 200px;max-width: 100%;overflow: auto;}#sk-container-id-24 input.sk-toggleable__control:checked~label.sk-toggleable__label-arrow:before {content: \"▾\";}#sk-container-id-24 div.sk-estimator input.sk-toggleable__control:checked~label.sk-toggleable__label {background-color: #d4ebff;}#sk-container-id-24 div.sk-label input.sk-toggleable__control:checked~label.sk-toggleable__label {background-color: #d4ebff;}#sk-container-id-24 input.sk-hidden--visually {border: 0;clip: rect(1px 1px 1px 1px);clip: rect(1px, 1px, 1px, 1px);height: 1px;margin: -1px;overflow: hidden;padding: 0;position: absolute;width: 1px;}#sk-container-id-24 div.sk-estimator {font-family: monospace;background-color: #f0f8ff;border: 1px dotted black;border-radius: 0.25em;box-sizing: border-box;margin-bottom: 0.5em;}#sk-container-id-24 div.sk-estimator:hover {background-color: #d4ebff;}#sk-container-id-24 div.sk-parallel-item::after {content: \"\";width: 100%;border-bottom: 1px solid gray;flex-grow: 1;}#sk-container-id-24 div.sk-label:hover label.sk-toggleable__label {background-color: #d4ebff;}#sk-container-id-24 div.sk-serial::before {content: \"\";position: absolute;border-left: 1px solid gray;box-sizing: border-box;top: 0;bottom: 0;left: 50%;z-index: 0;}#sk-container-id-24 div.sk-serial {display: flex;flex-direction: column;align-items: center;background-color: white;padding-right: 0.2em;padding-left: 0.2em;position: relative;}#sk-container-id-24 div.sk-item {position: relative;z-index: 1;}#sk-container-id-24 div.sk-parallel {display: flex;align-items: stretch;justify-content: center;background-color: white;position: relative;}#sk-container-id-24 div.sk-item::before, #sk-container-id-24 div.sk-parallel-item::before {content: \"\";position: absolute;border-left: 1px solid gray;box-sizing: border-box;top: 0;bottom: 0;left: 50%;z-index: -1;}#sk-container-id-24 div.sk-parallel-item {display: flex;flex-direction: column;z-index: 1;position: relative;background-color: white;}#sk-container-id-24 div.sk-parallel-item:first-child::after {align-self: flex-end;width: 50%;}#sk-container-id-24 div.sk-parallel-item:last-child::after {align-self: flex-start;width: 50%;}#sk-container-id-24 div.sk-parallel-item:only-child::after {width: 0;}#sk-container-id-24 div.sk-dashed-wrapped {border: 1px dashed gray;margin: 0 0.4em 0.5em 0.4em;box-sizing: border-box;padding-bottom: 0.4em;background-color: white;}#sk-container-id-24 div.sk-label label {font-family: monospace;font-weight: bold;display: inline-block;line-height: 1.2em;}#sk-container-id-24 div.sk-label-container {text-align: center;}#sk-container-id-24 div.sk-container {/* jupyter's `normalize.less` sets `[hidden] { display: none; }` but bootstrap.min.css set `[hidden] { display: none !important; }` so we also need the `!important` here to be able to override the default hidden behavior on the sphinx rendered scikit-learn.org. See: https://github.com/scikit-learn/scikit-learn/issues/21755 */display: inline-block !important;position: relative;}#sk-container-id-24 div.sk-text-repr-fallback {display: none;}</style><div id=\"sk-container-id-24\" class=\"sk-top-container\"><div class=\"sk-text-repr-fallback\"><pre>RandomForestRegressor(max_features=2, n_estimators=400)</pre><b>In a Jupyter environment, please rerun this cell to show the HTML representation or trust the notebook. <br />On GitHub, the HTML representation is unable to render, please try loading this page with nbviewer.org.</b></div><div class=\"sk-container\" hidden><div class=\"sk-item\"><div class=\"sk-estimator sk-toggleable\"><input class=\"sk-toggleable__control sk-hidden--visually\" id=\"sk-estimator-id-92\" type=\"checkbox\" checked><label for=\"sk-estimator-id-92\" class=\"sk-toggleable__label sk-toggleable__label-arrow\">RandomForestRegressor</label><div class=\"sk-toggleable__content\"><pre>RandomForestRegressor(max_features=2, n_estimators=400)</pre></div></div></div></div></div>"
      ],
      "text/plain": [
       "RandomForestRegressor(max_features=2, n_estimators=400)"
      ]
     },
     "execution_count": 594,
     "metadata": {},
     "output_type": "execute_result"
    }
   ],
   "source": [
    "X_filt=data.drop(data[data[\"y\"]>10000].index)\n",
    "X= X_filt.drop([\"y\"], axis=1)\n",
    "y = X_filt[\"y\"].copy()\n",
    "final_forest_reg = RandomForestRegressor(**grid_search1.best_params_)\n",
    "final_forest_reg.fit(X_train, y_train_filtered)"
   ]
  },
  {
   "cell_type": "code",
   "execution_count": 595,
   "metadata": {},
   "outputs": [
    {
     "data": {
      "text/plain": [
       "['./random_forest.joblib']"
      ]
     },
     "execution_count": 595,
     "metadata": {},
     "output_type": "execute_result"
    }
   ],
   "source": [
    "import joblib\n",
    "# save\n",
    "joblib.dump(final_forest_reg, \"./random_forest.joblib\")\n"
   ]
  }
 ],
 "metadata": {
  "kernelspec": {
   "display_name": "Python 3.9.13 ('tensorflow')",
   "language": "python",
   "name": "python3"
  },
  "language_info": {
   "codemirror_mode": {
    "name": "ipython",
    "version": 3
   },
   "file_extension": ".py",
   "mimetype": "text/x-python",
   "name": "python",
   "nbconvert_exporter": "python",
   "pygments_lexer": "ipython3",
   "version": "3.9.13"
  },
  "orig_nbformat": 4,
  "vscode": {
   "interpreter": {
    "hash": "5bc951a62e5d894d98682f496a0db05c9759d563545e8f72a9b808523808365a"
   }
  }
 },
 "nbformat": 4,
 "nbformat_minor": 2
}
